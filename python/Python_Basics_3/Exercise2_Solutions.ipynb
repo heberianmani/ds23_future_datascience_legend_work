{
 "cells": [
  {
   "cell_type": "markdown",
   "metadata": {},
   "source": [
    "### The questions for the exercises are given above the cells and the expected output is given below the cell. Please type the code inserting a new cell below the question because if you run the expected output cell the output would vanish! Happy learning! "
   ]
  },
  {
   "cell_type": "markdown",
   "metadata": {},
   "source": [
    "## 1. Write a Python program to find those numbers which are divisible by 7 and multiple of 5, between 1500 and 2700 (both included). "
   ]
  },
  {
   "cell_type": "code",
   "execution_count": 2,
   "metadata": {},
   "outputs": [
    {
     "name": "stdout",
     "output_type": "stream",
     "text": [
      "1505,1540,1575,1610,1645,1680,1715,1750,1785,1820,1855,1890,1925,1960,1995,2030,2065,2100,2135,2170,2205,2240,2275,2310,2345,2380,2415,2450,2485,2520,2555,2590,2625,2660,2695\n"
     ]
    }
   ],
   "source": [
    "a = []\n",
    "for i in range(1500,2701):\n",
    "    if(i%7 == 0 and i%5 == 0):\n",
    "        a.append(str(i))\n",
    "print(*a, sep=\",\")"
   ]
  },
  {
   "cell_type": "markdown",
   "metadata": {},
   "source": [
    "## 2. Write a Python program to construct the following pattern, using a nested for loop.\n"
   ]
  },
  {
   "cell_type": "code",
   "execution_count": 5,
   "metadata": {},
   "outputs": [
    {
     "name": "stdout",
     "output_type": "stream",
     "text": [
      "* \n",
      "* * \n",
      "* * * \n",
      "* * * * \n",
      "* * * * * \n",
      "* * * * \n",
      "* * * \n",
      "* * \n",
      "* \n"
     ]
    }
   ],
   "source": [
    "n = 5\n",
    "for i in range(n):\n",
    "    print(\"* \"* (i+1))\n",
    "for i in range(n-1, 0, -1):\n",
    "    print(\"* \"* i)"
   ]
  },
  {
   "cell_type": "markdown",
   "metadata": {},
   "source": [
    "## 3. Write a Python program to count the number of even and odd numbers from a series of numbers."
   ]
  },
  {
   "cell_type": "code",
   "execution_count": 9,
   "metadata": {},
   "outputs": [
    {
     "name": "stdout",
     "output_type": "stream",
     "text": [
      "Number of even numbers :  4\n",
      "Number of odd numbers :  5\n"
     ]
    }
   ],
   "source": [
    "even_count, odd_count = 0, 0\n",
    "for i in range(1,10):\n",
    "    if(i%2 == 0):\n",
    "        even_count += 1\n",
    "    else:\n",
    "        odd_count += 1\n",
    "print(\"Number of even numbers : \",even_count)\n",
    "print(\"Number of odd numbers : \",odd_count)"
   ]
  },
  {
   "cell_type": "code",
   "execution_count": 10,
   "metadata": {},
   "outputs": [
    {
     "name": "stdout",
     "output_type": "stream",
     "text": [
      "Number of even numbers :  4\n",
      "Number of odd numbers :  5\n"
     ]
    }
   ],
   "source": [
    "list_even = []\n",
    "list_odd = []\n",
    "for i in range(1,10):\n",
    "    if i % 2 == 0:\n",
    "        list_even.append(str(i))\n",
    "    else:\n",
    "        list_odd.append(str(i))\n",
    "print(\"Number of even numbers : \", len(list_even))\n",
    "print(\"Number of odd numbers : \", len(list_odd))"
   ]
  },
  {
   "cell_type": "markdown",
   "metadata": {},
   "source": [
    "## 4. Write a Python program to find numbers between 100 and 400 (both included) where each digit of a number is an even number. The numbers obtained should be printed in a comma-separated sequence."
   ]
  },
  {
   "cell_type": "code",
   "execution_count": 12,
   "metadata": {},
   "outputs": [
    {
     "name": "stdout",
     "output_type": "stream",
     "text": [
      "200,202,204,206,208,220,222,224,226,228,240,242,244,246,248,260,262,264,266,268,280,282,284,286,288,400\n"
     ]
    }
   ],
   "source": [
    "n = []\n",
    "for i in range(100,401):\n",
    "    s = str(i)\n",
    "    if(int(s[0]) % 2 == 0) and (int(s[1]) % 2 == 0) and (int(s[2]) % 2 == 0):\n",
    "        n.append(s)\n",
    "print(\",\".join(n))"
   ]
  },
  {
   "cell_type": "code",
   "execution_count": 13,
   "metadata": {},
   "outputs": [
    {
     "name": "stdout",
     "output_type": "stream",
     "text": [
      "200,202,204,206,208,220,222,224,226,228,240,242,244,246,248,260,262,264,266,268,280,282,284,286,288,400\n"
     ]
    }
   ],
   "source": [
    "l = []\n",
    "for i in range(100, 401):\n",
    "    s = str(i)\n",
    "    even_flag = False\n",
    "    for digit in s:\n",
    "        if int(digit) % 2 != 0:\n",
    "            even_flag = False\n",
    "            break\n",
    "        else:\n",
    "            even_flag = True\n",
    "    if even_flag:\n",
    "        l.append(s)\n",
    "print(\",\".join(l))"
   ]
  },
  {
   "cell_type": "markdown",
   "metadata": {},
   "source": [
    "## 5. Write a Python program to calculate a dog's age in dog's years.\n",
    "Note: For the first two years, a dog year is equal to 10.5 human years. After that, each dog year equals 4 human years."
   ]
  },
  {
   "cell_type": "code",
   "execution_count": 14,
   "metadata": {},
   "outputs": [
    {
     "name": "stdout",
     "output_type": "stream",
     "text": [
      "Input a dog's age in human years: 20\n",
      "The dog's age in dog's years is  93\n"
     ]
    }
   ],
   "source": [
    "#human_age = int(input(\"Input a dog's age in human years: \"))\n",
    "human_age = 20\n",
    "if human_age < 0:\n",
    "    print(\"Age must be a positive number.\")\n",
    "    exit()\n",
    "elif human_age <= 2:\n",
    "    dogs_age = human_age * 10.5\n",
    "else:\n",
    "    dogs_age = 21 + (human_age - 2) * 4\n",
    "print(\"Input a dog's age in human years:\",human_age)   \n",
    "print(\"The dog's age in dog's years is \", dogs_age)"
   ]
  },
  {
   "cell_type": "code",
   "execution_count": 15,
   "metadata": {},
   "outputs": [
    {
     "name": "stdout",
     "output_type": "stream",
     "text": [
      "Input a dog's age in human years: 20\n",
      "The dog's age in dog's years is 93\n"
     ]
    }
   ],
   "source": [
    "human_age = int(input())\n",
    "print(\"Input a dog's age in human years:\", human_age)\n",
    "dogs_age = 0\n",
    "for year in range(1,human_age +1):\n",
    "    # For the first two years, a dog year is equal to 10.5 human years\n",
    "    if year <=2: \n",
    "        dogs_age = dogs_age + 10.5 \n",
    "    \n",
    "    # After that, each dog year equals 4 human years\n",
    "    if year > 2:\n",
    "        dogs_age = dogs_age + 4\n",
    "print(\"The dog's age in dog's years is\", int(dogs_age))"
   ]
  },
  {
   "cell_type": "markdown",
   "metadata": {},
   "source": [
    "## 6. Write a Python function to find the Max of three numbers."
   ]
  },
  {
   "cell_type": "code",
   "execution_count": 18,
   "metadata": {},
   "outputs": [
    {
     "name": "stdout",
     "output_type": "stream",
     "text": [
      "The Three numbers are: (3, 6, -5)\n",
      "6\n"
     ]
    }
   ],
   "source": [
    "def maximum_number(a,b,c):\n",
    "    if (a >= b) and (a >= c):\n",
    "        large_value = a\n",
    "    elif (b >= a) and (b >= c):\n",
    "        large_value = b\n",
    "    else:\n",
    "        large_value = c\n",
    "    return large_value\n",
    "\n",
    "a = 3\n",
    "b = 6\n",
    "c = -5\n",
    "print(f\"The Three numbers are: ({a}, {b}, {c})\")\n",
    "print(maximum_number(a, b, c))"
   ]
  },
  {
   "cell_type": "markdown",
   "metadata": {},
   "source": [
    "## 7. Write a Python function that takes a number as a parameter and check the number is prime or not."
   ]
  },
  {
   "cell_type": "code",
   "execution_count": 30,
   "metadata": {},
   "outputs": [
    {
     "name": "stdout",
     "output_type": "stream",
     "text": [
      "The number is: 9\n",
      "False\n"
     ]
    }
   ],
   "source": [
    "def prime_number(n):    \n",
    "    if (n == 1):\n",
    "        return False\n",
    "    elif (n == 2):\n",
    "        return True\n",
    "    else:\n",
    "        for i in range(2,n):\n",
    "            if (n % i == 0):\n",
    "                return False\n",
    "        return True\n",
    "\n",
    "n = 9\n",
    "print(f\"The number is: {n}\")\n",
    "print(prime_number(n))"
   ]
  },
  {
   "cell_type": "code",
   "execution_count": 31,
   "metadata": {},
   "outputs": [
    {
     "name": "stdout",
     "output_type": "stream",
     "text": [
      "The number is: 9\n",
      "False\n"
     ]
    }
   ],
   "source": [
    "def is_prime(num):\n",
    "    flag = True\n",
    "    if num == 1: # 1 is always prime\n",
    "        flag = False\n",
    "    else:\n",
    "        for i in range(2, num): # prime number is divisible by itself and by 1. hence range is chosen with 2 to num\n",
    "            if num % i == 0:\n",
    "                flag = False\n",
    "                break\n",
    "            else:\n",
    "                flag = True\n",
    "    return flag\n",
    "\n",
    "num = 9\n",
    "print(f\"The number is: {num}\")\n",
    "print(is_prime(num))"
   ]
  },
  {
   "cell_type": "markdown",
   "metadata": {},
   "source": [
    "## 8. Write a Python function that accepts a string and calculate the number of upper case letters and lower case letters. Go to the editor\n"
   ]
  },
  {
   "cell_type": "code",
   "execution_count": 39,
   "metadata": {},
   "outputs": [
    {
     "name": "stdout",
     "output_type": "stream",
     "text": [
      "Original String:  Inceptz is One of The BeSt Places TO LEarn DataSciEnce\n",
      "No. of Upper case characters:  13\n",
      "No. of Lower case Characters:  32\n"
     ]
    }
   ],
   "source": [
    "def string_case_check(s):\n",
    "    case_check = {\"upper_case\": 0, \"lower_case\": 0}\n",
    "    for c in s:\n",
    "        if c.isupper():\n",
    "            case_check[\"upper_case\"] += 1\n",
    "        elif c.islower():\n",
    "            case_check[\"lower_case\"] += 1\n",
    "        else:\n",
    "            pass\n",
    "    print(\"Original String: \", s)\n",
    "    print(\"No. of Upper case characters: \", case_check[\"upper_case\"])\n",
    "    print(\"No. of Lower case Characters: \", case_check[\"lower_case\"])\n",
    "s = \"Inceptz is One of The BeSt Places TO LEarn DataSciEnce\"\n",
    "string_case_check(s)"
   ]
  },
  {
   "cell_type": "code",
   "execution_count": 35,
   "metadata": {},
   "outputs": [
    {
     "name": "stdout",
     "output_type": "stream",
     "text": [
      "Original String : Inceptz is One of The BeSt Places TO LEarn DataSciEnce\n",
      "No. of Upper case characters : 13\n",
      "No. of Lower case Characters : 32\n"
     ]
    }
   ],
   "source": [
    "def case_finder(str):\n",
    "    upper_count = 0\n",
    "    lower_count = 0\n",
    "    for char in str:\n",
    "        if char.isupper():\n",
    "            upper_count += 1\n",
    "        elif char.islower():\n",
    "            lower_count += 1\n",
    "    return upper_count, lower_count\n",
    "\n",
    "str = \"Inceptz is One of The BeSt Places TO LEarn DataSciEnce\"\n",
    "output = case_finder(str)\n",
    "print(\"Original String :\", str)\n",
    "print(\"No. of Upper case characters :\", output[0])\n",
    "print(\"No. of Lower case Characters :\", output[1])"
   ]
  },
  {
   "cell_type": "markdown",
   "metadata": {},
   "source": [
    "## 9. Write a Python program to reverse a string. "
   ]
  },
  {
   "cell_type": "code",
   "execution_count": 42,
   "metadata": {},
   "outputs": [
    {
     "name": "stdout",
     "output_type": "stream",
     "text": [
      "The original string is: 1234abcd\n",
      "The reversed string: dcba4321\n"
     ]
    }
   ],
   "source": [
    "def reverse(s):\n",
    "    reverse = s[::-1]\n",
    "    return reverse\n",
    "s = \"1234abcd\"\n",
    "print(\"The original string is:\",s)\n",
    "print(\"The reversed string:\",reverse(s))"
   ]
  },
  {
   "cell_type": "code",
   "execution_count": null,
   "metadata": {},
   "outputs": [],
   "source": [
    "s = \"1234abcd\"\n",
    "s_rev = \"\"\n",
    "for char in s:\n",
    "    s_rev = char + s_rev\n",
    "print(\"Original String:\", s)\n",
    "print(\"The reversed string:\", s_rev)"
   ]
  },
  {
   "cell_type": "markdown",
   "metadata": {},
   "source": [
    "## 10. Write a Python program to find  the greatest common divisor (gcd) of two integers."
   ]
  },
  {
   "cell_type": "code",
   "execution_count": 43,
   "metadata": {},
   "outputs": [
    {
     "name": "stdout",
     "output_type": "stream",
     "text": [
      "The two numbers are: (12,14)\n",
      "The GCD of the numbers are: 2\n"
     ]
    }
   ],
   "source": [
    "import math\n",
    "a = 12\n",
    "b = 14\n",
    "print(f\"The two numbers are: ({a},{b})\")\n",
    "print(\"The GCD of the numbers are:\",math.gcd(a,b))"
   ]
  },
  {
   "cell_type": "code",
   "execution_count": 44,
   "metadata": {},
   "outputs": [
    {
     "name": "stdout",
     "output_type": "stream",
     "text": [
      "The two numbers are: (12,14)\n",
      "The GCD of the numbers are: 2\n"
     ]
    }
   ],
   "source": [
    "def gcd(a,b):\n",
    "    if (b == 0):\n",
    "        return a\n",
    "    else:\n",
    "        return gcd(b,a % b)\n",
    "a = 12\n",
    "b = 14\n",
    "print(f\"The two numbers are: ({a},{b})\")\n",
    "print(\"The GCD of the numbers are:\",gcd(a,b))"
   ]
  },
  {
   "cell_type": "code",
   "execution_count": 46,
   "metadata": {},
   "outputs": [
    {
     "name": "stdout",
     "output_type": "stream",
     "text": [
      "The two numbers are: (12, 14)\n",
      "The GCD of the numbers are: 2\n"
     ]
    }
   ],
   "source": [
    "# Divide the larger number by the smaller number if the remainder is not 0.\n",
    "# Replace the larger number with the smaller number, and the smaller number with the remainder.\n",
    "# Repeat the process until the remainder is 0.\n",
    "# The last non-zero remainder is the GCD of the two numbers.\n",
    "\n",
    "def gcd(a , b):\n",
    "    remainder = -1\n",
    "    large = max(a, b)\n",
    "    small = min(a, b)\n",
    "\n",
    "    while True:\n",
    "        remainder = large % small\n",
    "        if remainder != 0:\n",
    "            large = small\n",
    "            small = remainder\n",
    "        else:\n",
    "            break\n",
    "    return small\n",
    "\n",
    "\n",
    "a = 12\n",
    "b = 14\n",
    "print(f\"The two numbers are: ({a}, {b})\")\n",
    "print(\"The GCD of the numbers are:\", gcd(a, b))"
   ]
  }
 ],
 "metadata": {
  "kernelspec": {
   "display_name": "Python 3",
   "language": "python",
   "name": "python3"
  },
  "language_info": {
   "codemirror_mode": {
    "name": "ipython",
    "version": 3
   },
   "file_extension": ".py",
   "mimetype": "text/x-python",
   "name": "python",
   "nbconvert_exporter": "python",
   "pygments_lexer": "ipython3",
   "version": "3.11.7"
  }
 },
 "nbformat": 4,
 "nbformat_minor": 4
}
