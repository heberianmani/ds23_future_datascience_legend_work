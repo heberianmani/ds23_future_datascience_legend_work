{
 "cells": [
  {
   "cell_type": "markdown",
   "metadata": {},
   "source": [
    "### The questions for the exercises are given above the cells and the expected output is given below the cell. Please type the code inserting a new cell below the question because if you run the expected output cell the output would vanish! Happy learning! "
   ]
  },
  {
   "cell_type": "markdown",
   "metadata": {},
   "source": [
    "## 1. Write a Python program to find those numbers which are divisible by 7 and multiple of 5, between 1500 and 2700 (both included). "
   ]
  },
  {
   "cell_type": "code",
   "execution_count": 7,
   "metadata": {},
   "outputs": [
    {
     "name": "stdout",
     "output_type": "stream",
     "text": [
      "1505,1540,1575,1610,1645,1680,1715,1750,1785,1820,1855,1890,1925,1960,1995,2030,2065,2100,2135,2170,2205,2240,2275,2310,2345,2380,2415,2450,2485,2520,2555,2590,2625,2660,2695\n"
     ]
    }
   ],
   "source": [
    "n = []\n",
    "for a in range(1500,2701):\n",
    "    if(a % 7 == 0) and (a % 5 == 0):\n",
    "        n.append(str(a))\n",
    "print(\",\".join(n))"
   ]
  },
  {
   "cell_type": "markdown",
   "metadata": {},
   "source": [
    "## 2. Write a Python program to construct the following pattern, using a nested for loop.\n"
   ]
  },
  {
   "cell_type": "code",
   "execution_count": 21,
   "metadata": {},
   "outputs": [
    {
     "name": "stdout",
     "output_type": "stream",
     "text": [
      " \n",
      "*\t \n",
      "*\t*\t \n",
      "*\t*\t*\t \n",
      "*\t*\t*\t*\t \n",
      "*\t*\t*\t*\t*\t \n",
      "*\t*\t*\t*\t \n",
      "*\t*\t*\t \n",
      "*\t*\t \n",
      "*\t \n"
     ]
    }
   ],
   "source": [
    "n = 5\n",
    "for i in range(n):\n",
    "    for j in range(i):\n",
    "        print(\"*\\t\", end=\"\")\n",
    "    print(\" \")\n",
    "for i in range(n, 0, -1):\n",
    "    for j in range(i):\n",
    "        print(\"*\\t\", end=\"\")\n",
    "    print(\" \")\n"
   ]
  },
  {
   "cell_type": "markdown",
   "metadata": {},
   "source": [
    "## 3. Write a Python program to count the number of even and odd numbers from a series of numbers."
   ]
  },
  {
   "cell_type": "code",
   "execution_count": 48,
   "metadata": {},
   "outputs": [
    {
     "name": "stdout",
     "output_type": "stream",
     "text": [
      "Number of even numbers :  4\n",
      "Number of odd numbers :  5\n"
     ]
    }
   ],
   "source": [
    "even_count, odd_count = 0, 0\n",
    "for i in range(1,10):\n",
    "    if(i % 2 == 0):\n",
    "        even_count += 1\n",
    "        \n",
    "    if(i % 2 != 0):\n",
    "        odd_count += 1\n",
    "print(\"Number of even numbers : \",even_count)\n",
    "print(\"Number of odd numbers : \",odd_count)"
   ]
  },
  {
   "cell_type": "markdown",
   "metadata": {},
   "source": [
    "## 4. Write a Python program to find numbers between 100 and 400 (both included) where each digit of a number is an even number. The numbers obtained should be printed in a comma-separated sequence."
   ]
  },
  {
   "cell_type": "code",
   "execution_count": 5,
   "metadata": {},
   "outputs": [
    {
     "name": "stdout",
     "output_type": "stream",
     "text": [
      "200,202,204,206,208,220,222,224,226,228,240,242,244,246,248,260,262,264,266,268,280,282,284,286,288,400\n"
     ]
    }
   ],
   "source": [
    "a = []\n",
    "for i in range(100,401):\n",
    "    b = str(i)\n",
    "    if(int(b[0]) % 2 == 0) and (int(b[1]) % 2 == 0) and (int(b[2]) % 2 == 0):\n",
    "        a.append(b)\n",
    "print(\",\".join(a))"
   ]
  },
  {
   "cell_type": "markdown",
   "metadata": {},
   "source": [
    "## 5. Write a Python program to calculate a dog's age in dog's years.\n",
    "Note: For the first two years, a dog year is equal to 10.5 human years. After that, each dog year equals 4 human years."
   ]
  },
  {
   "cell_type": "code",
   "execution_count": 47,
   "metadata": {},
   "outputs": [
    {
     "name": "stdout",
     "output_type": "stream",
     "text": [
      "Input a dog's age in human years: 20\n",
      "The dog's age in dog's years is  93\n"
     ]
    }
   ],
   "source": [
    "#human_age = int(input(\"Input a dog's age in human years: \"))\n",
    "human_age = 20\n",
    "if human_age < 0:\n",
    "    print(\"Age must be a positive number.\")\n",
    "    exit()\n",
    "elif human_age <= 2:\n",
    "    dogs_age = human_age * 10.5\n",
    "else:\n",
    "    dogs_age = 21 + (human_age - 2) * 4\n",
    "print(\"Input a dog's age in human years:\",human_age)   \n",
    "print(\"The dog's age in dog's years is \", dogs_age) "
   ]
  },
  {
   "cell_type": "markdown",
   "metadata": {},
   "source": [
    "## 6. Write a Python function to find the Max of three numbers."
   ]
  },
  {
   "cell_type": "code",
   "execution_count": 29,
   "metadata": {},
   "outputs": [
    {
     "data": {
      "text/plain": [
       "6"
      ]
     },
     "execution_count": 29,
     "metadata": {},
     "output_type": "execute_result"
    }
   ],
   "source": [
    "def maximum_number(a = 3,b = 6,c = -5):\n",
    "    if (a >= b) and (a >= c):\n",
    "        large_value = a\n",
    "    elif (b >= a) and (b >= c):\n",
    "        large_value = b\n",
    "    else:\n",
    "        large_value = c\n",
    "    return large_value\n",
    "\n",
    "maximum_number()"
   ]
  },
  {
   "cell_type": "markdown",
   "metadata": {},
   "source": [
    "## 7. Write a Python function that takes a number as a parameter and check the number is prime or not."
   ]
  },
  {
   "cell_type": "code",
   "execution_count": 46,
   "metadata": {},
   "outputs": [
    {
     "name": "stdout",
     "output_type": "stream",
     "text": [
      "The number is: 5\n"
     ]
    },
    {
     "data": {
      "text/plain": [
       "True"
      ]
     },
     "execution_count": 46,
     "metadata": {},
     "output_type": "execute_result"
    }
   ],
   "source": [
    "def prime_number(n = 47):    \n",
    "    if (n == 1):\n",
    "        return False\n",
    "    elif (n == 2):\n",
    "        return True\n",
    "    else:\n",
    "        for i in range(2,n):\n",
    "            if (n % i == 0):\n",
    "                return False\n",
    "        return True\n",
    "\n",
    "print(\"The number is:\",n)\n",
    "prime_number()           "
   ]
  },
  {
   "cell_type": "markdown",
   "metadata": {},
   "source": [
    "## 8. Write a Python function that accepts a string and calculate the number of upper case letters and lower case letters. Go to the editor\n"
   ]
  },
  {
   "cell_type": "code",
   "execution_count": 45,
   "metadata": {},
   "outputs": [
    {
     "name": "stdout",
     "output_type": "stream",
     "text": [
      "Original String:  Inceptz is One of The BeSt Places TO LEarn DataSciEnce\n",
      "No. of Upper case characters:  13\n",
      "No. of Lower case Characters:  32\n"
     ]
    }
   ],
   "source": [
    "def string_case_check(s = \"Inceptz is One of The BeSt Places TO LEarn DataSciEnce\"):\n",
    "    case_check = {\"upper_case\": 0, \"lower_case\": 0}\n",
    "    for c in s:\n",
    "        if c.isupper():\n",
    "            case_check[\"upper_case\"] = case_check[\"upper_case\"] + 1\n",
    "        elif c.islower():\n",
    "            case_check[\"lower_case\"] = case_check[\"lower_case\"] + 1\n",
    "        else:\n",
    "            pass\n",
    "    print(\"Original String: \", s)\n",
    "    print(\"No. of Upper case characters: \", case_check[\"upper_case\"])\n",
    "    print(\"No. of Lower case Characters: \", case_check[\"lower_case\"])\n",
    "string_case_check()"
   ]
  },
  {
   "cell_type": "markdown",
   "metadata": {},
   "source": [
    "## 9. Write a Python program to reverse a string. "
   ]
  },
  {
   "cell_type": "code",
   "execution_count": 52,
   "metadata": {},
   "outputs": [
    {
     "name": "stdout",
     "output_type": "stream",
     "text": [
      "The original string is: 1234abcd\n",
      "The reversed string: dcba4321\n"
     ]
    }
   ],
   "source": [
    "def reverse(s = \"1234abcd\"):\n",
    "    reverse = s[::-1]\n",
    "    return reverse\n",
    "print(\"The original string is:\",s)\n",
    "print(\"The reversed string:\",reverse())"
   ]
  },
  {
   "cell_type": "markdown",
   "metadata": {},
   "source": [
    "## 10. Write a Python program to find  the greatest common divisor (gcd) of two integers."
   ]
  },
  {
   "cell_type": "code",
   "execution_count": 55,
   "metadata": {},
   "outputs": [
    {
     "name": "stdout",
     "output_type": "stream",
     "text": [
      "The two numbers are: (12,14)\n",
      "The GCD of the numbers are: 2\n"
     ]
    }
   ],
   "source": [
    "def gcd(a,b):\n",
    "    if (b == 0):\n",
    "        return a\n",
    "    else:\n",
    "        return gcd(b,a % b)\n",
    "a = 12\n",
    "b = 14\n",
    "print(f\"The two numbers are: ({a},{b})\")\n",
    "print(\"The GCD of the numbers are:\",gcd(a,b))"
   ]
  }
 ],
 "metadata": {
  "kernelspec": {
   "display_name": "Python 3",
   "language": "python",
   "name": "python3"
  },
  "language_info": {
   "codemirror_mode": {
    "name": "ipython",
    "version": 3
   },
   "file_extension": ".py",
   "mimetype": "text/x-python",
   "name": "python",
   "nbconvert_exporter": "python",
   "pygments_lexer": "ipython3",
   "version": "3.11.7"
  }
 },
 "nbformat": 4,
 "nbformat_minor": 4
}
