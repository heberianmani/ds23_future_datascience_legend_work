{
  "nbformat": 4,
  "nbformat_minor": 0,
  "metadata": {
    "colab": {
      "provenance": []
    },
    "kernelspec": {
      "name": "python3",
      "display_name": "Python 3"
    },
    "language_info": {
      "name": "python"
    }
  },
  "cells": [
    {
      "cell_type": "code",
      "execution_count": 5,
      "metadata": {
        "colab": {
          "base_uri": "https://localhost:8080/"
        },
        "id": "7mRhbpaLkcqq",
        "outputId": "056d1778-d83b-4e24-aba7-775e7e905b03"
      },
      "outputs": [
        {
          "output_type": "stream",
          "name": "stdout",
          "text": [
            "Welcome to Python\n",
            "W e l c o m e   t o   P y t h o n\n",
            "17\n"
          ]
        }
      ],
      "source": [
        "a = \"Welcome to Python\"\n",
        "print(a)\n",
        "print(*a)\n",
        "print(len(a))"
      ]
    },
    {
      "cell_type": "code",
      "source": [
        "lst = [5,4,3,7,8,-8,-5,-7,-3,-4,-5]\n",
        "print(lst)\n",
        "lst.sort()\n",
        "print(lst)\n",
        "lst.sort(reverse = True)\n",
        "print(lst)"
      ],
      "metadata": {
        "colab": {
          "base_uri": "https://localhost:8080/"
        },
        "id": "BRaBPckElV7Y",
        "outputId": "1292e90b-f99c-4829-bfb2-5ecf2054227a"
      },
      "execution_count": 14,
      "outputs": [
        {
          "output_type": "stream",
          "name": "stdout",
          "text": [
            "[5, 4, 3, 7, 8, -8, -5, -7, -3, -4, -5]\n",
            "[-8, -7, -5, -5, -4, -3, 3, 4, 5, 7, 8]\n",
            "[8, 7, 5, 4, 3, -3, -4, -5, -5, -7, -8]\n"
          ]
        }
      ]
    },
    {
      "cell_type": "code",
      "source": [
        "def returnSortedEven(lst):\n",
        "  maxNum = max(lst)\n",
        "  return_set = set(range(-8,maxNum+1,2))\n",
        "  return return_set.intersection(lst)"
      ],
      "metadata": {
        "id": "Ae11rDsopXUK"
      },
      "execution_count": 30,
      "outputs": []
    },
    {
      "cell_type": "code",
      "source": [
        "lst = [5,4,3,7,8,-8,-5,-7,-3,-4,-5]\n",
        "returnSortedEven(lst)"
      ],
      "metadata": {
        "colab": {
          "base_uri": "https://localhost:8080/"
        },
        "id": "c0BXybSprHz7",
        "outputId": "52009970-535c-4e79-ccd2-90b76e8d6358"
      },
      "execution_count": 31,
      "outputs": [
        {
          "output_type": "execute_result",
          "data": {
            "text/plain": [
              "{-8, -4, 4, 8}"
            ]
          },
          "metadata": {},
          "execution_count": 31
        }
      ]
    },
    {
      "cell_type": "code",
      "source": [
        "def returnSortedEven(lst):\n",
        "  new_list = []\n",
        "  for i in lst:\n",
        "    if i % 2 == 0:\n",
        "      new_list.append(i)\n",
        "  new_list.sort()\n",
        "  return new_list"
      ],
      "metadata": {
        "id": "7YKzpdrSrM8q"
      },
      "execution_count": 24,
      "outputs": []
    },
    {
      "cell_type": "code",
      "source": [
        "lst = [5,4,3,7,8,-8,-5,-7,-3,-4,-5]\n",
        "returnSortedEven(lst)"
      ],
      "metadata": {
        "colab": {
          "base_uri": "https://localhost:8080/"
        },
        "id": "k6JIIDessMbh",
        "outputId": "2027f592-2f34-40f4-cca9-d64e5d2bc298"
      },
      "execution_count": 25,
      "outputs": [
        {
          "output_type": "execute_result",
          "data": {
            "text/plain": [
              "[-8, -4, 4, 8]"
            ]
          },
          "metadata": {},
          "execution_count": 25
        }
      ]
    },
    {
      "cell_type": "markdown",
      "source": [
        "### Before that we have to create the function and call it via utils"
      ],
      "metadata": {
        "id": "k4EdPCWOt1Nm"
      }
    },
    {
      "cell_type": "code",
      "source": [
        "from utils import returnSortedEven\n",
        "lst = [5,4,3,7,8,-8,-5,-7,-3,-4,-5]\n",
        "returnSortedEven(lst)"
      ],
      "metadata": {
        "colab": {
          "base_uri": "https://localhost:8080/",
          "height": 350
        },
        "id": "98K8sXdTsOcP",
        "outputId": "51c5ef26-2071-4dab-99c7-c3bb83295eb9"
      },
      "execution_count": 32,
      "outputs": [
        {
          "output_type": "error",
          "ename": "ModuleNotFoundError",
          "evalue": "No module named 'utils'",
          "traceback": [
            "\u001b[0;31m---------------------------------------------------------------------------\u001b[0m",
            "\u001b[0;31mModuleNotFoundError\u001b[0m                       Traceback (most recent call last)",
            "\u001b[0;32m<ipython-input-32-5374d9b09236>\u001b[0m in \u001b[0;36m<cell line: 1>\u001b[0;34m()\u001b[0m\n\u001b[0;32m----> 1\u001b[0;31m \u001b[0;32mfrom\u001b[0m \u001b[0mutils\u001b[0m \u001b[0;32mimport\u001b[0m \u001b[0mreturnSortedEven\u001b[0m\u001b[0;34m\u001b[0m\u001b[0;34m\u001b[0m\u001b[0m\n\u001b[0m\u001b[1;32m      2\u001b[0m \u001b[0mlst\u001b[0m \u001b[0;34m=\u001b[0m \u001b[0;34m[\u001b[0m\u001b[0;36m5\u001b[0m\u001b[0;34m,\u001b[0m\u001b[0;36m4\u001b[0m\u001b[0;34m,\u001b[0m\u001b[0;36m3\u001b[0m\u001b[0;34m,\u001b[0m\u001b[0;36m7\u001b[0m\u001b[0;34m,\u001b[0m\u001b[0;36m8\u001b[0m\u001b[0;34m,\u001b[0m\u001b[0;34m-\u001b[0m\u001b[0;36m8\u001b[0m\u001b[0;34m,\u001b[0m\u001b[0;34m-\u001b[0m\u001b[0;36m5\u001b[0m\u001b[0;34m,\u001b[0m\u001b[0;34m-\u001b[0m\u001b[0;36m7\u001b[0m\u001b[0;34m,\u001b[0m\u001b[0;34m-\u001b[0m\u001b[0;36m3\u001b[0m\u001b[0;34m,\u001b[0m\u001b[0;34m-\u001b[0m\u001b[0;36m4\u001b[0m\u001b[0;34m,\u001b[0m\u001b[0;34m-\u001b[0m\u001b[0;36m5\u001b[0m\u001b[0;34m]\u001b[0m\u001b[0;34m\u001b[0m\u001b[0;34m\u001b[0m\u001b[0m\n\u001b[1;32m      3\u001b[0m \u001b[0mreturnSortedEven\u001b[0m\u001b[0;34m(\u001b[0m\u001b[0mlst\u001b[0m\u001b[0;34m)\u001b[0m\u001b[0;34m\u001b[0m\u001b[0;34m\u001b[0m\u001b[0m\n",
            "\u001b[0;31mModuleNotFoundError\u001b[0m: No module named 'utils'",
            "",
            "\u001b[0;31m---------------------------------------------------------------------------\u001b[0;32m\nNOTE: If your import is failing due to a missing package, you can\nmanually install dependencies using either !pip or !apt.\n\nTo view examples of installing some common dependencies, click the\n\"Open Examples\" button below.\n\u001b[0;31m---------------------------------------------------------------------------\u001b[0m\n"
          ],
          "errorDetails": {
            "actions": [
              {
                "action": "open_url",
                "actionText": "Open Examples",
                "url": "/notebooks/snippets/importing_libraries.ipynb"
              }
            ]
          }
        }
      ]
    },
    {
      "cell_type": "code",
      "source": [],
      "metadata": {
        "id": "kvGpEWKotjit"
      },
      "execution_count": null,
      "outputs": []
    }
  ]
}