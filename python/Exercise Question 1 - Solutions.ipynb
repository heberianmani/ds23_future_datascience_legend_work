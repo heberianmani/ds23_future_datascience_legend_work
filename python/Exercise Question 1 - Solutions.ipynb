{
  "cells": [
    {
      "cell_type": "markdown",
      "metadata": {
        "id": "5GfNVnyXVxS0"
      },
      "source": [
        "# Solutions :"
      ]
    },
    {
      "cell_type": "markdown",
      "metadata": {},
      "source": [
        "## Exercise Question 1: Given an input list removes the element at index 4 and add it to the 2nd position and also, at the end of the list\n",
        "\n",
        "#For example: List = [54, 44, 27, 79, 91, 41]"
      ]
    },
    {
      "cell_type": "code",
      "execution_count": 5,
      "metadata": {
        "colab": {
          "base_uri": "https://localhost:8080/"
        },
        "id": "44us693gFl1T",
        "outputId": "0a2197be-c30b-4025-ec0c-f47d1c6b33f5"
      },
      "outputs": [
        {
          "name": "stdout",
          "output_type": "stream",
          "text": [
            "[34, 54, 67, 89, 11, 43, 94]\n",
            "[34, 54, 67, 89, 43, 94]\n",
            "[34, 54, 11, 67, 89, 43, 94]\n",
            "[34, 54, 11, 67, 89, 43, 94, 11]\n"
          ]
        }
      ],
      "source": [
        "lst = [34, 54, 67, 89, 11, 43, 94]\n",
        "print(lst)\n",
        "del lst[4]\n",
        "print(lst)\n",
        "lst.insert(2,11)\n",
        "print(lst)\n",
        "lst.append(11)\n",
        "print(lst)"
      ]
    },
    {
      "cell_type": "code",
      "execution_count": 9,
      "metadata": {
        "colab": {
          "base_uri": "https://localhost:8080/"
        },
        "id": "G5xR4c-4Fsat",
        "outputId": "6340fd03-662e-40e3-f82b-48922742ffcc"
      },
      "outputs": [
        {
          "name": "stdout",
          "output_type": "stream",
          "text": [
            "[34, 54, 67, 89, 43, 94]\n"
          ]
        }
      ],
      "source": [
        "lst.remove(11)\n",
        "print(lst)"
      ]
    },
    {
      "cell_type": "code",
      "execution_count": 10,
      "metadata": {
        "colab": {
          "base_uri": "https://localhost:8080/"
        },
        "id": "FY55nPj2Jx6Y",
        "outputId": "586de03b-d344-45ce-fba3-2ccc3341aff6"
      },
      "outputs": [
        {
          "name": "stdout",
          "output_type": "stream",
          "text": [
            "[34, 54, 11, 67, 89, 43, 94]\n"
          ]
        }
      ],
      "source": [
        "lst.insert(2,11)\n",
        "print(lst)"
      ]
    },
    {
      "cell_type": "code",
      "execution_count": 11,
      "metadata": {
        "colab": {
          "base_uri": "https://localhost:8080/"
        },
        "id": "iUrrNLvhKRuJ",
        "outputId": "3babc4d4-5eed-4435-9cdd-25da0d28c966"
      },
      "outputs": [
        {
          "name": "stdout",
          "output_type": "stream",
          "text": [
            "[34, 54, 11, 67, 89, 43, 94, 11]\n"
          ]
        }
      ],
      "source": [
        "lst.append(11)\n",
        "print(lst)"
      ]
    },
    {
      "cell_type": "markdown",
      "metadata": {},
      "source": [
        "## Exercise Question 2: Given a two list of equal size create a list of unique elements from both the lists into a seperate list"
      ]
    },
    {
      "cell_type": "code",
      "execution_count": 13,
      "metadata": {
        "colab": {
          "base_uri": "https://localhost:8080/"
        },
        "id": "RlJJJ5aDKsvU",
        "outputId": "3ede70fa-4ce1-47a8-918d-1f323266247f"
      },
      "outputs": [
        {
          "name": "stdout",
          "output_type": "stream",
          "text": [
            "[2, 3, 4, 5, 6, 7, 8, 4, 9, 16, 25, 36, 49, 64]\n"
          ]
        }
      ],
      "source": [
        "lst1 = [2, 3, 4, 5, 6, 7, 8]\n",
        "lst2 = [4, 9, 16, 25, 36, 49, 64]\n",
        "lst3 = lst1 + lst2\n",
        "print(lst3)"
      ]
    },
    {
      "cell_type": "code",
      "execution_count": 15,
      "metadata": {
        "colab": {
          "base_uri": "https://localhost:8080/"
        },
        "id": "1XF57yImLyvj",
        "outputId": "5c755045-3578-4b24-bf29-218e0446262f"
      },
      "outputs": [
        {
          "name": "stdout",
          "output_type": "stream",
          "text": [
            "[2, 3, 4, 5, 6, 7, 8, 4, 9, 16, 25, 36, 49, 64]\n"
          ]
        }
      ],
      "source": [
        "lst1 = [2, 3, 4, 5, 6, 7, 8]\n",
        "lst2 = [4, 9, 16, 25, 36, 49, 64]\n",
        "for i in lst2:\n",
        "  lst1.append(i)\n",
        "print(lst1)"
      ]
    },
    {
      "cell_type": "markdown",
      "metadata": {},
      "source": [
        "## Exercise Question 3: Remove duplicate from a list and create a tuple and find the minimum and maximum number (Hint: Try Functions Min() and Max() )"
      ]
    },
    {
      "cell_type": "code",
      "execution_count": 25,
      "metadata": {
        "colab": {
          "base_uri": "https://localhost:8080/"
        },
        "id": "pknCY_GqMTDZ",
        "outputId": "f9328e7d-163e-40e0-dcc2-06026e445471"
      },
      "outputs": [
        {
          "name": "stdout",
          "output_type": "stream",
          "text": [
            "[87, 52, 44, 53, 54, 87, 52, 53]\n",
            "{44, 52, 53, 54, 87}\n",
            "(44, 52, 53, 54, 87)\n",
            "Minimum Value :  44\n",
            "Maximum Value :  87\n"
          ]
        }
      ],
      "source": [
        "lst = [87, 52, 44, 53, 54, 87, 52, 53]\n",
        "print(lst)\n",
        "lst1 = set(lst)\n",
        "print(lst1)\n",
        "tup = tuple(lst1)\n",
        "print(tup)\n",
        "print(\"Minimum Value : \",min(tup))\n",
        "print(\"Maximum Value : \",max(tup))"
      ]
    },
    {
      "cell_type": "markdown",
      "metadata": {},
      "source": [
        "## Exercise Question 4: Display the each word in the string Count the number of words in a string and display it (Including the white spaces) "
      ]
    },
    {
      "cell_type": "code",
      "execution_count": 33,
      "metadata": {
        "colab": {
          "base_uri": "https://localhost:8080/"
        },
        "id": "OuAfXNJAMgyi",
        "outputId": "ac394dc9-b321-4b4e-da87-c274d7501035"
      },
      "outputs": [
        {
          "name": "stdout",
          "output_type": "stream",
          "text": [
            "['W', 'e', 'l', 'c', 'o', 'm', 'e', ' ', 't', 'o', ' ', 'P', 'y', 't', 'h', 'o', 'n']\n",
            "W\n",
            "e\n",
            "l\n",
            "c\n",
            "o\n",
            "m\n",
            "e\n",
            " \n",
            "t\n",
            "o\n",
            " \n",
            "P\n",
            "y\n",
            "t\n",
            "h\n",
            "o\n",
            "n\n",
            "Length of the String :  17\n"
          ]
        }
      ],
      "source": [
        "val = \"Welcome to Python\"\n",
        "print([*val])\n",
        "for i in val:\n",
        "  print(i)\n",
        "print(\"Length of the String : \",len(val))"
      ]
    },
    {
      "cell_type": "code",
      "execution_count": 36,
      "metadata": {
        "colab": {
          "base_uri": "https://localhost:8080/"
        },
        "id": "P_Gc5KZHOGoX",
        "outputId": "683a5926-d812-4951-f2d6-3cada5881a9d"
      },
      "outputs": [
        {
          "name": "stdout",
          "output_type": "stream",
          "text": [
            "Welcome to Python\n",
            "Length of the String :  17\n"
          ]
        }
      ],
      "source": [
        "import re\n",
        "val = \"Welcome to Python\"\n",
        "str = re.findall(r'[a-zA-Z]+', val)\n",
        "print(*str)\n",
        "print(\"Length of the String : \",len(val))"
      ]
    },
    {
      "cell_type": "markdown",
      "metadata": {},
      "source": [
        "##  Exercise Question 5: Write a Python program to access dictionary keys element by index. i.e. Use indexing methods to print the first key"
      ]
    },
    {
      "cell_type": "code",
      "execution_count": 41,
      "metadata": {
        "colab": {
          "base_uri": "https://localhost:8080/"
        },
        "id": "E_1TW8-1PgpV",
        "outputId": "1e78f99e-ad92-426e-82d9-fd22c4e88c35"
      },
      "outputs": [
        {
          "name": "stdout",
          "output_type": "stream",
          "text": [
            "{'physics': 80, 'math': 90, 'chemistry': 86}\n",
            "80\n",
            "physics\n"
          ]
        }
      ],
      "source": [
        "marks = {'physics': 80, 'math': 90, 'chemistry': 86}\n",
        "print(marks)\n",
        "print(marks['physics'])\n",
        "print(list(marks)[0])"
      ]
    }
  ],
  "metadata": {
    "colab": {
      "name": "Welcome To Colab",
      "provenance": [],
      "toc_visible": true
    },
    "kernelspec": {
      "display_name": "Python 3",
      "name": "python3"
    },
    "language_info": {
      "codemirror_mode": {
        "name": "ipython",
        "version": 3
      },
      "file_extension": ".py",
      "mimetype": "text/x-python",
      "name": "python",
      "nbconvert_exporter": "python",
      "pygments_lexer": "ipython3",
      "version": "3.11.7"
    }
  },
  "nbformat": 4,
  "nbformat_minor": 0
}
