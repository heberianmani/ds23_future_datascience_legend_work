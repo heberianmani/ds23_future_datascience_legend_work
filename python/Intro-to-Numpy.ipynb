{
  "nbformat": 4,
  "nbformat_minor": 0,
  "metadata": {
    "colab": {
      "provenance": []
    },
    "kernelspec": {
      "name": "python3",
      "display_name": "Python 3"
    },
    "language_info": {
      "name": "python"
    }
  },
  "cells": [
    {
      "cell_type": "markdown",
      "source": [
        "## Numpy - Numerical Python\n",
        "Python library - Arrays - 2005\n",
        "\n",
        "- Lists served the purpose of arrays\n",
        "- 50x faster than traditional lists\n",
        "- Very frequently used in Data Science\n",
        "- Mathematical foothold - Maths\n",
        "\n",
        "Numpy stores one continuous place in memory\n",
        "- Speed Efficiency\n",
        "- Memory Usage - data is store contiguously in memory, which enhances performed by efficient access.\n",
        "- Mathematical operations are easy\n",
        "- N-Dimensional Data hanling"
      ],
      "metadata": {
        "id": "idRzziEcnSFA"
      }
    },
    {
      "cell_type": "code",
      "source": [
        "!pip install numpy"
      ],
      "metadata": {
        "colab": {
          "base_uri": "https://localhost:8080/"
        },
        "id": "XyZhpaxSu96x",
        "outputId": "015aba58-9ddc-468f-8b73-f7595f22dd91"
      },
      "execution_count": 1,
      "outputs": [
        {
          "output_type": "stream",
          "name": "stdout",
          "text": [
            "Requirement already satisfied: numpy in /usr/local/lib/python3.10/dist-packages (1.25.2)\n"
          ]
        }
      ]
    },
    {
      "cell_type": "code",
      "source": [
        "import numpy"
      ],
      "metadata": {
        "id": "z0iHCxYcrA5j"
      },
      "execution_count": 2,
      "outputs": []
    },
    {
      "cell_type": "code",
      "source": [
        "import numpy as np #Allocating an alias for the package numpy"
      ],
      "metadata": {
        "id": "zXTcm213vDyB"
      },
      "execution_count": 3,
      "outputs": []
    },
    {
      "cell_type": "code",
      "source": [
        "a = np.array((1,2,3,4,5,6,7)) # Here no information of second dimension"
      ],
      "metadata": {
        "id": "X-b26f9EvMlS"
      },
      "execution_count": 7,
      "outputs": []
    },
    {
      "cell_type": "code",
      "source": [
        "a.shape"
      ],
      "metadata": {
        "colab": {
          "base_uri": "https://localhost:8080/"
        },
        "id": "f7P3R6x8vUXQ",
        "outputId": "77c6c135-1a69-4ed0-fb47-3a61200c8a6f"
      },
      "execution_count": 8,
      "outputs": [
        {
          "output_type": "execute_result",
          "data": {
            "text/plain": [
              "(7,)"
            ]
          },
          "metadata": {},
          "execution_count": 8
        }
      ]
    },
    {
      "cell_type": "code",
      "source": [
        "a = np.array([[1],\n",
        "              [2],\n",
        "              [3],\n",
        "              [4],\n",
        "              [5],\n",
        "              [6],\n",
        "              [7]]) # I am explicity passing information of dimesions #7 and 15 both are same"
      ],
      "metadata": {
        "id": "CWF3jf8mwZHI"
      },
      "execution_count": 15,
      "outputs": []
    },
    {
      "cell_type": "code",
      "source": [
        "a.shape"
      ],
      "metadata": {
        "colab": {
          "base_uri": "https://localhost:8080/"
        },
        "id": "JdNYQqa7whey",
        "outputId": "4f5a0ad9-fbe8-47a8-d81b-cef1639db682"
      },
      "execution_count": 16,
      "outputs": [
        {
          "output_type": "execute_result",
          "data": {
            "text/plain": [
              "(7, 1)"
            ]
          },
          "metadata": {},
          "execution_count": 16
        }
      ]
    },
    {
      "cell_type": "code",
      "source": [
        "a = np.array([[1,1],\n",
        "              [2,2],\n",
        "              [3,3],\n",
        "              [4,4],\n",
        "              [5,5],\n",
        "              [6,6],\n",
        "              [7,7]])"
      ],
      "metadata": {
        "id": "_YPg95WFxG2v"
      },
      "execution_count": 17,
      "outputs": []
    },
    {
      "cell_type": "code",
      "source": [
        "a.shape"
      ],
      "metadata": {
        "colab": {
          "base_uri": "https://localhost:8080/"
        },
        "id": "0KYW4bvWyTeb",
        "outputId": "90680924-aab6-4309-ea4b-b1ae99db9895"
      },
      "execution_count": 18,
      "outputs": [
        {
          "output_type": "execute_result",
          "data": {
            "text/plain": [
              "(7, 2)"
            ]
          },
          "metadata": {},
          "execution_count": 18
        }
      ]
    },
    {
      "cell_type": "code",
      "source": [
        "a.T #Transpose"
      ],
      "metadata": {
        "colab": {
          "base_uri": "https://localhost:8080/"
        },
        "id": "PI1_Dk0-398D",
        "outputId": "701ef0c1-ac8d-4133-9b30-af648441a279"
      },
      "execution_count": 19,
      "outputs": [
        {
          "output_type": "execute_result",
          "data": {
            "text/plain": [
              "array([[1, 2, 3, 4, 5, 6, 7],\n",
              "       [1, 2, 3, 4, 5, 6, 7]])"
            ]
          },
          "metadata": {},
          "execution_count": 19
        }
      ]
    },
    {
      "cell_type": "code",
      "source": [
        "a.T.shape"
      ],
      "metadata": {
        "colab": {
          "base_uri": "https://localhost:8080/"
        },
        "id": "wp6EFW-ryUgt",
        "outputId": "c5f06a35-43f2-4692-85f9-3777b48832ad"
      },
      "execution_count": 20,
      "outputs": [
        {
          "output_type": "execute_result",
          "data": {
            "text/plain": [
              "(2, 7)"
            ]
          },
          "metadata": {},
          "execution_count": 20
        }
      ]
    },
    {
      "cell_type": "markdown",
      "source": [
        "## Indexing"
      ],
      "metadata": {
        "id": "Kw3QJ7oF4_Pm"
      }
    },
    {
      "cell_type": "code",
      "source": [
        "a = np.array((1,2,3,4,5,6,7)) # Here no information of second dimension\n",
        "print(a[0])"
      ],
      "metadata": {
        "colab": {
          "base_uri": "https://localhost:8080/"
        },
        "id": "gP86vYLf4GPF",
        "outputId": "c653d5e4-3df7-4984-da9a-12745a71dc49"
      },
      "execution_count": 21,
      "outputs": [
        {
          "output_type": "stream",
          "name": "stdout",
          "text": [
            "1\n"
          ]
        }
      ]
    },
    {
      "cell_type": "code",
      "source": [
        "a = np.array([[1],\n",
        "              [2],\n",
        "              [3],\n",
        "              [4],\n",
        "              [5],\n",
        "              [6],\n",
        "              [7]]) # I am explicity passing information of dimesions #7 and 15 both are same\n",
        "print(a[0])"
      ],
      "metadata": {
        "colab": {
          "base_uri": "https://localhost:8080/"
        },
        "id": "CnQt9FQC5Lif",
        "outputId": "e066ad3f-46d4-4615-8da9-3a00219db8e2"
      },
      "execution_count": 22,
      "outputs": [
        {
          "output_type": "stream",
          "name": "stdout",
          "text": [
            "[1]\n"
          ]
        }
      ]
    },
    {
      "cell_type": "code",
      "source": [
        "a = np.array([[1,2],\n",
        "              [2,2],\n",
        "              [3,2],\n",
        "              [4,2],\n",
        "              [5,2],\n",
        "              [6,2],\n",
        "              [7,2]])\n",
        "print(a[0])"
      ],
      "metadata": {
        "colab": {
          "base_uri": "https://localhost:8080/"
        },
        "id": "h16i0b-65RB7",
        "outputId": "ddc94630-517a-4eda-9ec0-185540ccb9ee"
      },
      "execution_count": 24,
      "outputs": [
        {
          "output_type": "stream",
          "name": "stdout",
          "text": [
            "[1 2]\n"
          ]
        }
      ]
    },
    {
      "cell_type": "code",
      "source": [
        "a = np.array([[1,2],\n",
        "              [2,2],\n",
        "              [3,2],\n",
        "              [4,2],\n",
        "              [5,2],\n",
        "              [6,2],\n",
        "              [7,2]])\n",
        "print(a[0][0])"
      ],
      "metadata": {
        "colab": {
          "base_uri": "https://localhost:8080/"
        },
        "id": "U-qJEv335ZJC",
        "outputId": "144127bd-fe2e-40f2-da74-2843ce324f42"
      },
      "execution_count": 25,
      "outputs": [
        {
          "output_type": "stream",
          "name": "stdout",
          "text": [
            "1\n"
          ]
        }
      ]
    },
    {
      "cell_type": "code",
      "source": [
        "a = np.array([[[1,2],\n",
        "              [2,2]],\n",
        "              [[3,2],\n",
        "              [4,2]],\n",
        "              [[5,2],\n",
        "              [6,2]]])"
      ],
      "metadata": {
        "id": "_04AZob45mZD"
      },
      "execution_count": 26,
      "outputs": []
    },
    {
      "cell_type": "code",
      "source": [
        "a"
      ],
      "metadata": {
        "colab": {
          "base_uri": "https://localhost:8080/"
        },
        "id": "PMsfUjMK7CJd",
        "outputId": "9921fdbb-8cb6-4343-9aab-23adea13d71a"
      },
      "execution_count": 28,
      "outputs": [
        {
          "output_type": "execute_result",
          "data": {
            "text/plain": [
              "array([[[1, 2],\n",
              "        [2, 2]],\n",
              "\n",
              "       [[3, 2],\n",
              "        [4, 2]],\n",
              "\n",
              "       [[5, 2],\n",
              "        [6, 2]]])"
            ]
          },
          "metadata": {},
          "execution_count": 28
        }
      ]
    },
    {
      "cell_type": "code",
      "source": [
        "a.shape"
      ],
      "metadata": {
        "colab": {
          "base_uri": "https://localhost:8080/"
        },
        "id": "XtIt-V6s6PgG",
        "outputId": "96577228-daa4-4722-f247-dda144812823"
      },
      "execution_count": 27,
      "outputs": [
        {
          "output_type": "execute_result",
          "data": {
            "text/plain": [
              "(3, 2, 2)"
            ]
          },
          "metadata": {},
          "execution_count": 27
        }
      ]
    },
    {
      "cell_type": "code",
      "source": [
        "a[0]"
      ],
      "metadata": {
        "colab": {
          "base_uri": "https://localhost:8080/"
        },
        "id": "t31ty6106Quo",
        "outputId": "1ccd6642-b0ac-433d-9838-a1fa63b3d7e5"
      },
      "execution_count": 29,
      "outputs": [
        {
          "output_type": "execute_result",
          "data": {
            "text/plain": [
              "array([[1, 2],\n",
              "       [2, 2]])"
            ]
          },
          "metadata": {},
          "execution_count": 29
        }
      ]
    },
    {
      "cell_type": "code",
      "source": [
        "a[0][1]"
      ],
      "metadata": {
        "colab": {
          "base_uri": "https://localhost:8080/"
        },
        "id": "fKVKOjTI7UI1",
        "outputId": "2b9d981d-cf6a-4482-9b18-942a0357211c"
      },
      "execution_count": 31,
      "outputs": [
        {
          "output_type": "execute_result",
          "data": {
            "text/plain": [
              "array([2, 2])"
            ]
          },
          "metadata": {},
          "execution_count": 31
        }
      ]
    },
    {
      "cell_type": "code",
      "source": [
        "a[0][0][0]"
      ],
      "metadata": {
        "colab": {
          "base_uri": "https://localhost:8080/"
        },
        "id": "jN5bc6pL7WCK",
        "outputId": "8729da10-1038-4e7c-b2bf-06eec82ff2c1"
      },
      "execution_count": 32,
      "outputs": [
        {
          "output_type": "execute_result",
          "data": {
            "text/plain": [
              "1"
            ]
          },
          "metadata": {},
          "execution_count": 32
        }
      ]
    },
    {
      "cell_type": "code",
      "source": [
        "a[0,1,1], a[0][0][0]"
      ],
      "metadata": {
        "colab": {
          "base_uri": "https://localhost:8080/"
        },
        "id": "S5bTXGAK7fzj",
        "outputId": "4c7aa525-bc16-425a-ad27-5320a52e4ade"
      },
      "execution_count": 34,
      "outputs": [
        {
          "output_type": "execute_result",
          "data": {
            "text/plain": [
              "(2, 1)"
            ]
          },
          "metadata": {},
          "execution_count": 34
        }
      ]
    },
    {
      "cell_type": "code",
      "source": [
        "a = np.array([[1,2,3],[2,3,4],[3,4,5],[4,5,6]])"
      ],
      "metadata": {
        "id": "nfdNofKH76Zx"
      },
      "execution_count": 35,
      "outputs": []
    },
    {
      "cell_type": "code",
      "source": [
        "a.shape"
      ],
      "metadata": {
        "colab": {
          "base_uri": "https://localhost:8080/"
        },
        "id": "UiSoT_Br8anL",
        "outputId": "fc148fa8-e9f5-408a-b80e-5fa39638bcf3"
      },
      "execution_count": 36,
      "outputs": [
        {
          "output_type": "execute_result",
          "data": {
            "text/plain": [
              "(4, 3)"
            ]
          },
          "metadata": {},
          "execution_count": 36
        }
      ]
    },
    {
      "cell_type": "code",
      "source": [
        "a = np.array([[[1,2,3],[2,3,4]],[[3,4,5],[4,5,6]]])"
      ],
      "metadata": {
        "id": "vYD9t96l8cm3"
      },
      "execution_count": 37,
      "outputs": []
    },
    {
      "cell_type": "code",
      "source": [
        "a.shape"
      ],
      "metadata": {
        "colab": {
          "base_uri": "https://localhost:8080/"
        },
        "id": "iy_ZvZKy8mZQ",
        "outputId": "b6539771-5b40-449b-a5a4-e29efb87662a"
      },
      "execution_count": 38,
      "outputs": [
        {
          "output_type": "execute_result",
          "data": {
            "text/plain": [
              "(2, 2, 3)"
            ]
          },
          "metadata": {},
          "execution_count": 38
        }
      ]
    },
    {
      "cell_type": "code",
      "source": [
        "a"
      ],
      "metadata": {
        "colab": {
          "base_uri": "https://localhost:8080/"
        },
        "id": "AeBdZshC8pX_",
        "outputId": "97829efd-a3a9-4bec-eebf-e9ff93ee9ffa"
      },
      "execution_count": 39,
      "outputs": [
        {
          "output_type": "execute_result",
          "data": {
            "text/plain": [
              "array([[[1, 2, 3],\n",
              "        [2, 3, 4]],\n",
              "\n",
              "       [[3, 4, 5],\n",
              "        [4, 5, 6]]])"
            ]
          },
          "metadata": {},
          "execution_count": 39
        }
      ]
    },
    {
      "cell_type": "code",
      "source": [
        "a[0].T"
      ],
      "metadata": {
        "colab": {
          "base_uri": "https://localhost:8080/"
        },
        "id": "e2FloqiJ90zY",
        "outputId": "d414f024-c0a3-413e-dc1c-2a1271e1b7b3"
      },
      "execution_count": 40,
      "outputs": [
        {
          "output_type": "execute_result",
          "data": {
            "text/plain": [
              "array([[1, 2],\n",
              "       [2, 3],\n",
              "       [3, 4]])"
            ]
          },
          "metadata": {},
          "execution_count": 40
        }
      ]
    },
    {
      "cell_type": "code",
      "source": [
        "a[0].T[2] #By default numpy arrays are queried row by row to change it I am changing to column"
      ],
      "metadata": {
        "colab": {
          "base_uri": "https://localhost:8080/"
        },
        "id": "VRFgwFIr98OW",
        "outputId": "64d99d2c-d0ea-4c01-ada6-767eb322c522"
      },
      "execution_count": 41,
      "outputs": [
        {
          "output_type": "execute_result",
          "data": {
            "text/plain": [
              "array([3, 4])"
            ]
          },
          "metadata": {},
          "execution_count": 41
        }
      ]
    },
    {
      "cell_type": "code",
      "source": [
        "a = np.array([[1,2],[3,3],[5,6],[9,8],[7,6],[0,3]])"
      ],
      "metadata": {
        "id": "sBTG1bLkGox0"
      },
      "execution_count": 50,
      "outputs": []
    },
    {
      "cell_type": "code",
      "source": [
        "a.shape"
      ],
      "metadata": {
        "colab": {
          "base_uri": "https://localhost:8080/"
        },
        "id": "260OVy33HAim",
        "outputId": "2a5966d1-8186-4d1a-d824-13fc0bd9e097"
      },
      "execution_count": 51,
      "outputs": [
        {
          "output_type": "execute_result",
          "data": {
            "text/plain": [
              "(6, 2)"
            ]
          },
          "metadata": {},
          "execution_count": 51
        }
      ]
    },
    {
      "cell_type": "code",
      "source": [
        "a = np.array([[[[1,2],[3,3],[5,6]]],[[[9,8],[7,6],[0,3]]]])"
      ],
      "metadata": {
        "id": "52MRYxxdHFop"
      },
      "execution_count": 52,
      "outputs": []
    },
    {
      "cell_type": "code",
      "source": [
        "a"
      ],
      "metadata": {
        "colab": {
          "base_uri": "https://localhost:8080/"
        },
        "id": "_Y52aOeRHc-m",
        "outputId": "d46933dd-cba7-4bb0-eae7-768394441ce1"
      },
      "execution_count": 54,
      "outputs": [
        {
          "output_type": "execute_result",
          "data": {
            "text/plain": [
              "array([[[[1, 2],\n",
              "         [3, 3],\n",
              "         [5, 6]]],\n",
              "\n",
              "\n",
              "       [[[9, 8],\n",
              "         [7, 6],\n",
              "         [0, 3]]]])"
            ]
          },
          "metadata": {},
          "execution_count": 54
        }
      ]
    },
    {
      "cell_type": "code",
      "source": [
        "a.shape"
      ],
      "metadata": {
        "colab": {
          "base_uri": "https://localhost:8080/"
        },
        "id": "gdMW2KvgHFLM",
        "outputId": "0be8dc53-429a-4cf0-d967-5256609b1bd2"
      },
      "execution_count": 53,
      "outputs": [
        {
          "output_type": "execute_result",
          "data": {
            "text/plain": [
              "(2, 1, 3, 2)"
            ]
          },
          "metadata": {},
          "execution_count": 53
        }
      ]
    },
    {
      "cell_type": "code",
      "source": [
        "a.T"
      ],
      "metadata": {
        "colab": {
          "base_uri": "https://localhost:8080/"
        },
        "id": "4QiJQUG6Ic78",
        "outputId": "bdcec160-a7c4-4619-a443-1394db5ce485"
      },
      "execution_count": 56,
      "outputs": [
        {
          "output_type": "execute_result",
          "data": {
            "text/plain": [
              "array([[[[1, 9]],\n",
              "\n",
              "        [[3, 7]],\n",
              "\n",
              "        [[5, 0]]],\n",
              "\n",
              "\n",
              "       [[[2, 8]],\n",
              "\n",
              "        [[3, 6]],\n",
              "\n",
              "        [[6, 3]]]])"
            ]
          },
          "metadata": {},
          "execution_count": 56
        }
      ]
    },
    {
      "cell_type": "code",
      "source": [
        "a.T.shape"
      ],
      "metadata": {
        "colab": {
          "base_uri": "https://localhost:8080/"
        },
        "id": "DJ9gEuoRIYEL",
        "outputId": "cf955f9b-4afe-4b21-e76a-06e18f2daa47"
      },
      "execution_count": 55,
      "outputs": [
        {
          "output_type": "execute_result",
          "data": {
            "text/plain": [
              "(2, 3, 1, 2)"
            ]
          },
          "metadata": {},
          "execution_count": 55
        }
      ]
    },
    {
      "cell_type": "code",
      "source": [
        "sh = np.array([[[1,\"a\"],[2,\"b\"],[3,\"c\"],[4,\"d\"],[5,\"e\"],[6,\"f\"]]])"
      ],
      "metadata": {
        "id": "FZ9HJ7Fv-D_4"
      },
      "execution_count": 48,
      "outputs": []
    },
    {
      "cell_type": "code",
      "source": [
        "sh"
      ],
      "metadata": {
        "colab": {
          "base_uri": "https://localhost:8080/"
        },
        "id": "-9io4XfyB7ll",
        "outputId": "31613b7d-f358-4fd1-d003-c4c65ea57c7f"
      },
      "execution_count": 49,
      "outputs": [
        {
          "output_type": "execute_result",
          "data": {
            "text/plain": [
              "array([[['1', 'a'],\n",
              "        ['2', 'b'],\n",
              "        ['3', 'c'],\n",
              "        ['4', 'd'],\n",
              "        ['5', 'e'],\n",
              "        ['6', 'f']]], dtype='<U21')"
            ]
          },
          "metadata": {},
          "execution_count": 49
        }
      ]
    },
    {
      "cell_type": "code",
      "source": [
        "sh.shape"
      ],
      "metadata": {
        "colab": {
          "base_uri": "https://localhost:8080/"
        },
        "id": "7goIuIR7AUj-",
        "outputId": "de8479e3-21a5-4587-8092-d82c1daf31a6"
      },
      "execution_count": 44,
      "outputs": [
        {
          "output_type": "execute_result",
          "data": {
            "text/plain": [
              "(6, 2)"
            ]
          },
          "metadata": {},
          "execution_count": 44
        }
      ]
    },
    {
      "cell_type": "code",
      "source": [
        "sh = np.array([[[1,\"a\"],[2,\"b\"]],[[3,\"c\"],[4,\"d\"]],[[5,\"e\"],[6,\"f\"]]])"
      ],
      "metadata": {
        "id": "4lSXhgxdB3R0"
      },
      "execution_count": 46,
      "outputs": []
    },
    {
      "cell_type": "code",
      "source": [
        "sh"
      ],
      "metadata": {
        "colab": {
          "base_uri": "https://localhost:8080/"
        },
        "id": "nJDMpZMDCQ78",
        "outputId": "ddda879c-8d9e-4168-a4c8-54f014dfcaf1"
      },
      "execution_count": 47,
      "outputs": [
        {
          "output_type": "execute_result",
          "data": {
            "text/plain": [
              "array([[['1', 'a'],\n",
              "        ['2', 'b']],\n",
              "\n",
              "       [['3', 'c'],\n",
              "        ['4', 'd']],\n",
              "\n",
              "       [['5', 'e'],\n",
              "        ['6', 'f']]], dtype='<U21')"
            ]
          },
          "metadata": {},
          "execution_count": 47
        }
      ]
    },
    {
      "cell_type": "code",
      "source": [
        "def square(num):\n",
        "  \"\"\"\n",
        "  Signature : Square function user-defined for square operation\n",
        "\n",
        "  Params :\n",
        "  num : Integer that is to be squared\n",
        "\n",
        "  returns : Squared Integer\n",
        "\n",
        "  \"\"\"\n",
        "  a = 10 #Local Scope of the variable a - A is not present outside the function\n",
        "  print(a)\n",
        "  return num * num"
      ],
      "metadata": {
        "id": "DGBUQ-c1CSAP"
      },
      "execution_count": 64,
      "outputs": []
    },
    {
      "cell_type": "code",
      "source": [
        "square"
      ],
      "metadata": {
        "colab": {
          "base_uri": "https://localhost:8080/",
          "height": 187
        },
        "id": "q9FnLDUTUcK5",
        "outputId": "e6b0db2b-af84-4f59-8b5a-669fa1a1c98d"
      },
      "execution_count": 67,
      "outputs": [
        {
          "output_type": "execute_result",
          "data": {
            "text/plain": [
              "<function __main__.square(num)>"
            ],
            "text/html": [
              "<div style=\"max-width:800px; border: 1px solid var(--colab-border-color);\"><style>\n",
              "      pre.function-repr-contents {\n",
              "        overflow-x: auto;\n",
              "        padding: 8px 12px;\n",
              "        max-height: 500px;\n",
              "      }\n",
              "\n",
              "      pre.function-repr-contents.function-repr-contents-collapsed {\n",
              "        cursor: pointer;\n",
              "        max-height: 100px;\n",
              "      }\n",
              "    </style>\n",
              "    <pre style=\"white-space: initial; background:\n",
              "         var(--colab-secondary-surface-color); padding: 8px 12px;\n",
              "         border-bottom: 1px solid var(--colab-border-color);\"><b>square</b><br/>def square(num)</pre><pre class=\"function-repr-contents function-repr-contents-collapsed\" style=\"\"><a class=\"filepath\" style=\"display:none\" href=\"#\">/content/&lt;ipython-input-64-2d67cf0f0aea&gt;</a>Signature : Square function user-defined for square operation\n",
              "\n",
              "Params :\n",
              "num : Integer that is to be squared\n",
              "\n",
              "returns : Squared Integer</pre></div>"
            ]
          },
          "metadata": {},
          "execution_count": 67
        }
      ]
    },
    {
      "cell_type": "code",
      "source": [
        "def function(sffs:int,dsds:int) -> str:\n",
        "  pass"
      ],
      "metadata": {
        "id": "kLShTqllXMD2"
      },
      "execution_count": 68,
      "outputs": []
    },
    {
      "cell_type": "code",
      "source": [
        "function?"
      ],
      "metadata": {
        "id": "agov6jCUXoAA"
      },
      "execution_count": 71,
      "outputs": []
    },
    {
      "cell_type": "code",
      "source": [],
      "metadata": {
        "id": "RHX0BH0NXp-o"
      },
      "execution_count": null,
      "outputs": []
    }
  ]
}