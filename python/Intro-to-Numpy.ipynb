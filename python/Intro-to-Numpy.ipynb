{
  "cells": [
    {
      "cell_type": "markdown",
      "metadata": {
        "id": "idRzziEcnSFA"
      },
      "source": [
        "## Numpy - Numerical Python\n",
        "Python library - Arrays - 2005\n",
        "\n",
        "- Lists served the purpose of arrays\n",
        "- 50x faster than traditional lists\n",
        "- Very frequently used in Data Science\n",
        "- Mathematical foothold - Maths\n",
        "\n",
        "Numpy stores one continuous place in memory\n",
        "- Speed Efficiency\n",
        "- Memory Usage - data is store contiguously in memory, which enhances performed by efficient access.\n",
        "- Mathematical operations are easy\n",
        "- N-Dimensional Data hanling"
      ]
    },
    {
      "cell_type": "code",
      "execution_count": 1,
      "metadata": {
        "colab": {
          "base_uri": "https://localhost:8080/"
        },
        "id": "XyZhpaxSu96x",
        "outputId": "015aba58-9ddc-468f-8b73-f7595f22dd91"
      },
      "outputs": [
        {
          "name": "stdout",
          "output_type": "stream",
          "text": [
            "Requirement already satisfied: numpy in /usr/local/lib/python3.10/dist-packages (1.25.2)\n"
          ]
        }
      ],
      "source": [
        "!pip install numpy"
      ]
    },
    {
      "cell_type": "code",
      "execution_count": 2,
      "metadata": {
        "id": "z0iHCxYcrA5j"
      },
      "outputs": [],
      "source": [
        "import numpy"
      ]
    },
    {
      "cell_type": "code",
      "execution_count": 3,
      "metadata": {
        "id": "zXTcm213vDyB"
      },
      "outputs": [],
      "source": [
        "import numpy as np #Allocating an alias for the package numpy"
      ]
    },
    {
      "cell_type": "code",
      "execution_count": 7,
      "metadata": {
        "id": "X-b26f9EvMlS"
      },
      "outputs": [],
      "source": [
        "a = np.array((1,2,3,4,5,6,7)) # Here no information of second dimension"
      ]
    },
    {
      "cell_type": "code",
      "execution_count": 8,
      "metadata": {
        "colab": {
          "base_uri": "https://localhost:8080/"
        },
        "id": "f7P3R6x8vUXQ",
        "outputId": "77c6c135-1a69-4ed0-fb47-3a61200c8a6f"
      },
      "outputs": [
        {
          "data": {
            "text/plain": [
              "(7,)"
            ]
          },
          "execution_count": 8,
          "metadata": {},
          "output_type": "execute_result"
        }
      ],
      "source": [
        "a.shape"
      ]
    },
    {
      "cell_type": "code",
      "execution_count": 15,
      "metadata": {
        "id": "CWF3jf8mwZHI"
      },
      "outputs": [],
      "source": [
        "a = np.array([[1],\n",
        "              [2],\n",
        "              [3],\n",
        "              [4],\n",
        "              [5],\n",
        "              [6],\n",
        "              [7]]) # I am explicity passing information of dimesions #7 and 15 both are same"
      ]
    },
    {
      "cell_type": "code",
      "execution_count": 16,
      "metadata": {
        "colab": {
          "base_uri": "https://localhost:8080/"
        },
        "id": "JdNYQqa7whey",
        "outputId": "4f5a0ad9-fbe8-47a8-d81b-cef1639db682"
      },
      "outputs": [
        {
          "data": {
            "text/plain": [
              "(7, 1)"
            ]
          },
          "execution_count": 16,
          "metadata": {},
          "output_type": "execute_result"
        }
      ],
      "source": [
        "a.shape"
      ]
    },
    {
      "cell_type": "code",
      "execution_count": 17,
      "metadata": {
        "id": "_YPg95WFxG2v"
      },
      "outputs": [],
      "source": [
        "a = np.array([[1,1],\n",
        "              [2,2],\n",
        "              [3,3],\n",
        "              [4,4],\n",
        "              [5,5],\n",
        "              [6,6],\n",
        "              [7,7]])"
      ]
    },
    {
      "cell_type": "code",
      "execution_count": 18,
      "metadata": {
        "colab": {
          "base_uri": "https://localhost:8080/"
        },
        "id": "0KYW4bvWyTeb",
        "outputId": "90680924-aab6-4309-ea4b-b1ae99db9895"
      },
      "outputs": [
        {
          "data": {
            "text/plain": [
              "(7, 2)"
            ]
          },
          "execution_count": 18,
          "metadata": {},
          "output_type": "execute_result"
        }
      ],
      "source": [
        "a.shape"
      ]
    },
    {
      "cell_type": "code",
      "execution_count": 19,
      "metadata": {
        "colab": {
          "base_uri": "https://localhost:8080/"
        },
        "id": "PI1_Dk0-398D",
        "outputId": "701ef0c1-ac8d-4133-9b30-af648441a279"
      },
      "outputs": [
        {
          "data": {
            "text/plain": [
              "array([[1, 2, 3, 4, 5, 6, 7],\n",
              "       [1, 2, 3, 4, 5, 6, 7]])"
            ]
          },
          "execution_count": 19,
          "metadata": {},
          "output_type": "execute_result"
        }
      ],
      "source": [
        "a.T #Transpose"
      ]
    },
    {
      "cell_type": "code",
      "execution_count": 20,
      "metadata": {
        "colab": {
          "base_uri": "https://localhost:8080/"
        },
        "id": "wp6EFW-ryUgt",
        "outputId": "c5f06a35-43f2-4692-85f9-3777b48832ad"
      },
      "outputs": [
        {
          "data": {
            "text/plain": [
              "(2, 7)"
            ]
          },
          "execution_count": 20,
          "metadata": {},
          "output_type": "execute_result"
        }
      ],
      "source": [
        "a.T.shape"
      ]
    },
    {
      "cell_type": "markdown",
      "metadata": {
        "id": "Kw3QJ7oF4_Pm"
      },
      "source": [
        "## Indexing"
      ]
    },
    {
      "cell_type": "code",
      "execution_count": 21,
      "metadata": {
        "colab": {
          "base_uri": "https://localhost:8080/"
        },
        "id": "gP86vYLf4GPF",
        "outputId": "c653d5e4-3df7-4984-da9a-12745a71dc49"
      },
      "outputs": [
        {
          "name": "stdout",
          "output_type": "stream",
          "text": [
            "1\n"
          ]
        }
      ],
      "source": [
        "a = np.array((1,2,3,4,5,6,7)) # Here no information of second dimension\n",
        "print(a[0])"
      ]
    },
    {
      "cell_type": "code",
      "execution_count": 22,
      "metadata": {
        "colab": {
          "base_uri": "https://localhost:8080/"
        },
        "id": "CnQt9FQC5Lif",
        "outputId": "e066ad3f-46d4-4615-8da9-3a00219db8e2"
      },
      "outputs": [
        {
          "name": "stdout",
          "output_type": "stream",
          "text": [
            "[1]\n"
          ]
        }
      ],
      "source": [
        "a = np.array([[1],\n",
        "              [2],\n",
        "              [3],\n",
        "              [4],\n",
        "              [5],\n",
        "              [6],\n",
        "              [7]]) # I am explicity passing information of dimesions #7 and 15 both are same\n",
        "print(a[0])"
      ]
    },
    {
      "cell_type": "code",
      "execution_count": 24,
      "metadata": {
        "colab": {
          "base_uri": "https://localhost:8080/"
        },
        "id": "h16i0b-65RB7",
        "outputId": "ddc94630-517a-4eda-9ec0-185540ccb9ee"
      },
      "outputs": [
        {
          "name": "stdout",
          "output_type": "stream",
          "text": [
            "[1 2]\n"
          ]
        }
      ],
      "source": [
        "a = np.array([[1,2],\n",
        "              [2,2],\n",
        "              [3,2],\n",
        "              [4,2],\n",
        "              [5,2],\n",
        "              [6,2],\n",
        "              [7,2]])\n",
        "print(a[0])"
      ]
    },
    {
      "cell_type": "code",
      "execution_count": 25,
      "metadata": {
        "colab": {
          "base_uri": "https://localhost:8080/"
        },
        "id": "U-qJEv335ZJC",
        "outputId": "144127bd-fe2e-40f2-da74-2843ce324f42"
      },
      "outputs": [
        {
          "name": "stdout",
          "output_type": "stream",
          "text": [
            "1\n"
          ]
        }
      ],
      "source": [
        "a = np.array([[1,2],\n",
        "              [2,2],\n",
        "              [3,2],\n",
        "              [4,2],\n",
        "              [5,2],\n",
        "              [6,2],\n",
        "              [7,2]])\n",
        "print(a[0][0])"
      ]
    },
    {
      "cell_type": "code",
      "execution_count": 26,
      "metadata": {
        "id": "_04AZob45mZD"
      },
      "outputs": [],
      "source": [
        "a = np.array([[[1,2],\n",
        "              [2,2]],\n",
        "              [[3,2],\n",
        "              [4,2]],\n",
        "              [[5,2],\n",
        "              [6,2]]])"
      ]
    },
    {
      "cell_type": "code",
      "execution_count": 28,
      "metadata": {
        "colab": {
          "base_uri": "https://localhost:8080/"
        },
        "id": "PMsfUjMK7CJd",
        "outputId": "9921fdbb-8cb6-4343-9aab-23adea13d71a"
      },
      "outputs": [
        {
          "data": {
            "text/plain": [
              "array([[[1, 2],\n",
              "        [2, 2]],\n",
              "\n",
              "       [[3, 2],\n",
              "        [4, 2]],\n",
              "\n",
              "       [[5, 2],\n",
              "        [6, 2]]])"
            ]
          },
          "execution_count": 28,
          "metadata": {},
          "output_type": "execute_result"
        }
      ],
      "source": [
        "a"
      ]
    },
    {
      "cell_type": "code",
      "execution_count": 27,
      "metadata": {
        "colab": {
          "base_uri": "https://localhost:8080/"
        },
        "id": "XtIt-V6s6PgG",
        "outputId": "96577228-daa4-4722-f247-dda144812823"
      },
      "outputs": [
        {
          "data": {
            "text/plain": [
              "(3, 2, 2)"
            ]
          },
          "execution_count": 27,
          "metadata": {},
          "output_type": "execute_result"
        }
      ],
      "source": [
        "a.shape"
      ]
    },
    {
      "cell_type": "code",
      "execution_count": 29,
      "metadata": {
        "colab": {
          "base_uri": "https://localhost:8080/"
        },
        "id": "t31ty6106Quo",
        "outputId": "1ccd6642-b0ac-433d-9838-a1fa63b3d7e5"
      },
      "outputs": [
        {
          "data": {
            "text/plain": [
              "array([[1, 2],\n",
              "       [2, 2]])"
            ]
          },
          "execution_count": 29,
          "metadata": {},
          "output_type": "execute_result"
        }
      ],
      "source": [
        "a[0]"
      ]
    },
    {
      "cell_type": "code",
      "execution_count": 31,
      "metadata": {
        "colab": {
          "base_uri": "https://localhost:8080/"
        },
        "id": "fKVKOjTI7UI1",
        "outputId": "2b9d981d-cf6a-4482-9b18-942a0357211c"
      },
      "outputs": [
        {
          "data": {
            "text/plain": [
              "array([2, 2])"
            ]
          },
          "execution_count": 31,
          "metadata": {},
          "output_type": "execute_result"
        }
      ],
      "source": [
        "a[0][1]"
      ]
    },
    {
      "cell_type": "code",
      "execution_count": 32,
      "metadata": {
        "colab": {
          "base_uri": "https://localhost:8080/"
        },
        "id": "jN5bc6pL7WCK",
        "outputId": "8729da10-1038-4e7c-b2bf-06eec82ff2c1"
      },
      "outputs": [
        {
          "data": {
            "text/plain": [
              "1"
            ]
          },
          "execution_count": 32,
          "metadata": {},
          "output_type": "execute_result"
        }
      ],
      "source": [
        "a[0][0][0]"
      ]
    },
    {
      "cell_type": "code",
      "execution_count": 34,
      "metadata": {
        "colab": {
          "base_uri": "https://localhost:8080/"
        },
        "id": "S5bTXGAK7fzj",
        "outputId": "4c7aa525-bc16-425a-ad27-5320a52e4ade"
      },
      "outputs": [
        {
          "data": {
            "text/plain": [
              "(2, 1)"
            ]
          },
          "execution_count": 34,
          "metadata": {},
          "output_type": "execute_result"
        }
      ],
      "source": [
        "a[0,1,1], a[0][0][0]"
      ]
    },
    {
      "cell_type": "code",
      "execution_count": 35,
      "metadata": {
        "id": "nfdNofKH76Zx"
      },
      "outputs": [],
      "source": [
        "a = np.array([[1,2,3],[2,3,4],[3,4,5],[4,5,6]])"
      ]
    },
    {
      "cell_type": "code",
      "execution_count": 36,
      "metadata": {
        "colab": {
          "base_uri": "https://localhost:8080/"
        },
        "id": "UiSoT_Br8anL",
        "outputId": "fc148fa8-e9f5-408a-b80e-5fa39638bcf3"
      },
      "outputs": [
        {
          "data": {
            "text/plain": [
              "(4, 3)"
            ]
          },
          "execution_count": 36,
          "metadata": {},
          "output_type": "execute_result"
        }
      ],
      "source": [
        "a.shape"
      ]
    },
    {
      "cell_type": "code",
      "execution_count": 37,
      "metadata": {
        "id": "vYD9t96l8cm3"
      },
      "outputs": [],
      "source": [
        "a = np.array([[[1,2,3],[2,3,4]],[[3,4,5],[4,5,6]]])"
      ]
    },
    {
      "cell_type": "code",
      "execution_count": 38,
      "metadata": {
        "colab": {
          "base_uri": "https://localhost:8080/"
        },
        "id": "iy_ZvZKy8mZQ",
        "outputId": "b6539771-5b40-449b-a5a4-e29efb87662a"
      },
      "outputs": [
        {
          "data": {
            "text/plain": [
              "(2, 2, 3)"
            ]
          },
          "execution_count": 38,
          "metadata": {},
          "output_type": "execute_result"
        }
      ],
      "source": [
        "a.shape"
      ]
    },
    {
      "cell_type": "code",
      "execution_count": 39,
      "metadata": {
        "colab": {
          "base_uri": "https://localhost:8080/"
        },
        "id": "AeBdZshC8pX_",
        "outputId": "97829efd-a3a9-4bec-eebf-e9ff93ee9ffa"
      },
      "outputs": [
        {
          "data": {
            "text/plain": [
              "array([[[1, 2, 3],\n",
              "        [2, 3, 4]],\n",
              "\n",
              "       [[3, 4, 5],\n",
              "        [4, 5, 6]]])"
            ]
          },
          "execution_count": 39,
          "metadata": {},
          "output_type": "execute_result"
        }
      ],
      "source": [
        "a"
      ]
    },
    {
      "cell_type": "code",
      "execution_count": 40,
      "metadata": {
        "colab": {
          "base_uri": "https://localhost:8080/"
        },
        "id": "e2FloqiJ90zY",
        "outputId": "d414f024-c0a3-413e-dc1c-2a1271e1b7b3"
      },
      "outputs": [
        {
          "data": {
            "text/plain": [
              "array([[1, 2],\n",
              "       [2, 3],\n",
              "       [3, 4]])"
            ]
          },
          "execution_count": 40,
          "metadata": {},
          "output_type": "execute_result"
        }
      ],
      "source": [
        "a[0].T"
      ]
    },
    {
      "cell_type": "code",
      "execution_count": 41,
      "metadata": {
        "colab": {
          "base_uri": "https://localhost:8080/"
        },
        "id": "VRFgwFIr98OW",
        "outputId": "64d99d2c-d0ea-4c01-ada6-767eb322c522"
      },
      "outputs": [
        {
          "data": {
            "text/plain": [
              "array([3, 4])"
            ]
          },
          "execution_count": 41,
          "metadata": {},
          "output_type": "execute_result"
        }
      ],
      "source": [
        "a[0].T[2] #By default numpy arrays are queried row by row to change it I am changing to column"
      ]
    },
    {
      "cell_type": "code",
      "execution_count": 50,
      "metadata": {
        "id": "sBTG1bLkGox0"
      },
      "outputs": [],
      "source": [
        "a = np.array([[1,2],[3,3],[5,6],[9,8],[7,6],[0,3]])"
      ]
    },
    {
      "cell_type": "code",
      "execution_count": 51,
      "metadata": {
        "colab": {
          "base_uri": "https://localhost:8080/"
        },
        "id": "260OVy33HAim",
        "outputId": "2a5966d1-8186-4d1a-d824-13fc0bd9e097"
      },
      "outputs": [
        {
          "data": {
            "text/plain": [
              "(6, 2)"
            ]
          },
          "execution_count": 51,
          "metadata": {},
          "output_type": "execute_result"
        }
      ],
      "source": [
        "a.shape"
      ]
    },
    {
      "cell_type": "code",
      "execution_count": 52,
      "metadata": {
        "id": "52MRYxxdHFop"
      },
      "outputs": [],
      "source": [
        "a = np.array([[[[1,2],[3,3],[5,6]]],[[[9,8],[7,6],[0,3]]]])"
      ]
    },
    {
      "cell_type": "code",
      "execution_count": 54,
      "metadata": {
        "colab": {
          "base_uri": "https://localhost:8080/"
        },
        "id": "_Y52aOeRHc-m",
        "outputId": "d46933dd-cba7-4bb0-eae7-768394441ce1"
      },
      "outputs": [
        {
          "data": {
            "text/plain": [
              "array([[[[1, 2],\n",
              "         [3, 3],\n",
              "         [5, 6]]],\n",
              "\n",
              "\n",
              "       [[[9, 8],\n",
              "         [7, 6],\n",
              "         [0, 3]]]])"
            ]
          },
          "execution_count": 54,
          "metadata": {},
          "output_type": "execute_result"
        }
      ],
      "source": [
        "a"
      ]
    },
    {
      "cell_type": "code",
      "execution_count": 53,
      "metadata": {
        "colab": {
          "base_uri": "https://localhost:8080/"
        },
        "id": "gdMW2KvgHFLM",
        "outputId": "0be8dc53-429a-4cf0-d967-5256609b1bd2"
      },
      "outputs": [
        {
          "data": {
            "text/plain": [
              "(2, 1, 3, 2)"
            ]
          },
          "execution_count": 53,
          "metadata": {},
          "output_type": "execute_result"
        }
      ],
      "source": [
        "a.shape"
      ]
    },
    {
      "cell_type": "code",
      "execution_count": 56,
      "metadata": {
        "colab": {
          "base_uri": "https://localhost:8080/"
        },
        "id": "4QiJQUG6Ic78",
        "outputId": "bdcec160-a7c4-4619-a443-1394db5ce485"
      },
      "outputs": [
        {
          "data": {
            "text/plain": [
              "array([[[[1, 9]],\n",
              "\n",
              "        [[3, 7]],\n",
              "\n",
              "        [[5, 0]]],\n",
              "\n",
              "\n",
              "       [[[2, 8]],\n",
              "\n",
              "        [[3, 6]],\n",
              "\n",
              "        [[6, 3]]]])"
            ]
          },
          "execution_count": 56,
          "metadata": {},
          "output_type": "execute_result"
        }
      ],
      "source": [
        "a.T"
      ]
    },
    {
      "cell_type": "code",
      "execution_count": 55,
      "metadata": {
        "colab": {
          "base_uri": "https://localhost:8080/"
        },
        "id": "DJ9gEuoRIYEL",
        "outputId": "cf955f9b-4afe-4b21-e76a-06e18f2daa47"
      },
      "outputs": [
        {
          "data": {
            "text/plain": [
              "(2, 3, 1, 2)"
            ]
          },
          "execution_count": 55,
          "metadata": {},
          "output_type": "execute_result"
        }
      ],
      "source": [
        "a.T.shape"
      ]
    },
    {
      "cell_type": "code",
      "execution_count": 48,
      "metadata": {
        "id": "FZ9HJ7Fv-D_4"
      },
      "outputs": [],
      "source": [
        "sh = np.array([[[1,\"a\"],[2,\"b\"],[3,\"c\"],[4,\"d\"],[5,\"e\"],[6,\"f\"]]])"
      ]
    },
    {
      "cell_type": "code",
      "execution_count": 49,
      "metadata": {
        "colab": {
          "base_uri": "https://localhost:8080/"
        },
        "id": "-9io4XfyB7ll",
        "outputId": "31613b7d-f358-4fd1-d003-c4c65ea57c7f"
      },
      "outputs": [
        {
          "data": {
            "text/plain": [
              "array([[['1', 'a'],\n",
              "        ['2', 'b'],\n",
              "        ['3', 'c'],\n",
              "        ['4', 'd'],\n",
              "        ['5', 'e'],\n",
              "        ['6', 'f']]], dtype='<U21')"
            ]
          },
          "execution_count": 49,
          "metadata": {},
          "output_type": "execute_result"
        }
      ],
      "source": [
        "sh"
      ]
    },
    {
      "cell_type": "code",
      "execution_count": 44,
      "metadata": {
        "colab": {
          "base_uri": "https://localhost:8080/"
        },
        "id": "7goIuIR7AUj-",
        "outputId": "de8479e3-21a5-4587-8092-d82c1daf31a6"
      },
      "outputs": [
        {
          "data": {
            "text/plain": [
              "(6, 2)"
            ]
          },
          "execution_count": 44,
          "metadata": {},
          "output_type": "execute_result"
        }
      ],
      "source": [
        "sh.shape"
      ]
    },
    {
      "cell_type": "code",
      "execution_count": 46,
      "metadata": {
        "id": "4lSXhgxdB3R0"
      },
      "outputs": [],
      "source": [
        "sh = np.array([[[1,\"a\"],[2,\"b\"]],[[3,\"c\"],[4,\"d\"]],[[5,\"e\"],[6,\"f\"]]])"
      ]
    },
    {
      "cell_type": "code",
      "execution_count": 47,
      "metadata": {
        "colab": {
          "base_uri": "https://localhost:8080/"
        },
        "id": "nJDMpZMDCQ78",
        "outputId": "ddda879c-8d9e-4168-a4c8-54f014dfcaf1"
      },
      "outputs": [
        {
          "data": {
            "text/plain": [
              "array([[['1', 'a'],\n",
              "        ['2', 'b']],\n",
              "\n",
              "       [['3', 'c'],\n",
              "        ['4', 'd']],\n",
              "\n",
              "       [['5', 'e'],\n",
              "        ['6', 'f']]], dtype='<U21')"
            ]
          },
          "execution_count": 47,
          "metadata": {},
          "output_type": "execute_result"
        }
      ],
      "source": [
        "sh"
      ]
    },
    {
      "cell_type": "code",
      "execution_count": 6,
      "metadata": {
        "id": "DGBUQ-c1CSAP"
      },
      "outputs": [],
      "source": [
        "def square(num):\n",
        "  \"\"\"\n",
        "  Signature : Square function user-defined for square operation\n",
        "\n",
        "  Params :\n",
        "  num : Integer that is to be squared\n",
        "\n",
        "  returns : Squared Integer\n",
        "\n",
        "  \"\"\"\n",
        "  a = 10 #Local Scope of the variable a - A is not present outside the function\n",
        "  print(a)\n",
        "  return num * num"
      ]
    },
    {
      "cell_type": "code",
      "execution_count": 8,
      "metadata": {
        "colab": {
          "base_uri": "https://localhost:8080/",
          "height": 187
        },
        "id": "q9FnLDUTUcK5",
        "outputId": "e6b0db2b-af84-4f59-8b5a-669fa1a1c98d"
      },
      "outputs": [
        {
          "name": "stdout",
          "output_type": "stream",
          "text": [
            "\u001b[1;31mSignature:\u001b[0m \u001b[0msquare\u001b[0m\u001b[1;33m(\u001b[0m\u001b[0mnum\u001b[0m\u001b[1;33m)\u001b[0m\u001b[1;33m\u001b[0m\u001b[1;33m\u001b[0m\u001b[0m\n",
            "\u001b[1;31mDocstring:\u001b[0m\n",
            "Signature : Square function user-defined for square operation\n",
            "\n",
            "Params :\n",
            "num : Integer that is to be squared\n",
            "\n",
            "returns : Squared Integer\n",
            "\u001b[1;31mFile:\u001b[0m      c:\\users\\heber\\appdata\\local\\temp\\ipykernel_29556\\935681064.py\n",
            "\u001b[1;31mType:\u001b[0m      function"
          ]
        }
      ],
      "source": [
        "square?"
      ]
    },
    {
      "cell_type": "code",
      "execution_count": 9,
      "metadata": {
        "id": "kLShTqllXMD2"
      },
      "outputs": [],
      "source": [
        "def function(sffs:int,dsds:int) -> str:\n",
        "  pass"
      ]
    },
    {
      "cell_type": "code",
      "execution_count": 10,
      "metadata": {
        "id": "agov6jCUXoAA"
      },
      "outputs": [
        {
          "name": "stdout",
          "output_type": "stream",
          "text": [
            "\u001b[1;31mSignature:\u001b[0m \u001b[0mfunction\u001b[0m\u001b[1;33m(\u001b[0m\u001b[0msffs\u001b[0m\u001b[1;33m:\u001b[0m \u001b[0mint\u001b[0m\u001b[1;33m,\u001b[0m \u001b[0mdsds\u001b[0m\u001b[1;33m:\u001b[0m \u001b[0mint\u001b[0m\u001b[1;33m)\u001b[0m \u001b[1;33m->\u001b[0m \u001b[0mstr\u001b[0m\u001b[1;33m\u001b[0m\u001b[1;33m\u001b[0m\u001b[0m\n",
            "\u001b[1;31mDocstring:\u001b[0m <no docstring>\n",
            "\u001b[1;31mFile:\u001b[0m      c:\\users\\heber\\appdata\\local\\temp\\ipykernel_29556\\470278825.py\n",
            "\u001b[1;31mType:\u001b[0m      function"
          ]
        }
      ],
      "source": [
        "function?"
      ]
    },
    {
      "cell_type": "code",
      "execution_count": null,
      "metadata": {
        "id": "RHX0BH0NXp-o"
      },
      "outputs": [],
      "source": []
    }
  ],
  "metadata": {
    "colab": {
      "provenance": []
    },
    "kernelspec": {
      "display_name": "Python 3",
      "name": "python3"
    },
    "language_info": {
      "codemirror_mode": {
        "name": "ipython",
        "version": 3
      },
      "file_extension": ".py",
      "mimetype": "text/x-python",
      "name": "python",
      "nbconvert_exporter": "python",
      "pygments_lexer": "ipython3",
      "version": "3.11.7"
    }
  },
  "nbformat": 4,
  "nbformat_minor": 0
}
