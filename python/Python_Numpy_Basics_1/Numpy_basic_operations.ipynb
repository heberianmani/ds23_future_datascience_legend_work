{
 "cells": [
  {
   "cell_type": "code",
   "execution_count": 1,
   "id": "55bf4205",
   "metadata": {},
   "outputs": [
    {
     "name": "stdout",
     "output_type": "stream",
     "text": [
      "Defaulting to user installation because normal site-packages is not writeable\n",
      "Requirement already satisfied: numpy in c:\\programdata\\anaconda3\\lib\\site-packages (1.26.4)\n"
     ]
    }
   ],
   "source": [
    "!pip install numpy"
   ]
  },
  {
   "cell_type": "code",
   "execution_count": 17,
   "id": "07703c97",
   "metadata": {},
   "outputs": [
    {
     "name": "stdout",
     "output_type": "stream",
     "text": [
      "(8,)\n",
      "5\n",
      "(8, 1)\n",
      "[8]\n",
      "(8, 2)\n",
      "[1 2] 2\n",
      "(2, 8)\n"
     ]
    }
   ],
   "source": [
    "import numpy as np\n",
    "a = np.array([1,2,3,4,5,6,7,8])\n",
    "print(a.shape)\n",
    "print(a[4])\n",
    "b = np.array([[1],[2],[3],[4],[5],[6],[7],[8]])\n",
    "print(b.shape)\n",
    "print(b[7])\n",
    "c = np.array([[1,2],[2,2],[3,2],[4,2],[5,2],[6,2],[7,2],[8,2]])\n",
    "print(c.shape)\n",
    "print(c[0],c[0][1])\n",
    "cT = c.T\n",
    "print(cT.shape)"
   ]
  },
  {
   "cell_type": "code",
   "execution_count": 24,
   "id": "69d59678",
   "metadata": {},
   "outputs": [
    {
     "name": "stdout",
     "output_type": "stream",
     "text": [
      "(4, 2, 2)\n",
      "[[[1 2]\n",
      "  [2 2]]\n",
      "\n",
      " [[3 2]\n",
      "  [4 2]]\n",
      "\n",
      " [[5 2]\n",
      "  [6 2]]\n",
      "\n",
      " [[7 2]\n",
      "  [8 2]]]\n",
      "6\n",
      "7\n"
     ]
    }
   ],
   "source": [
    "d = np.array([[[1,2],\n",
    "               [2,2]],\n",
    "              [[3,2],\n",
    "               [4,2]],\n",
    "              [[5,2],\n",
    "               [6,2]],\n",
    "              [[7,2],\n",
    "               [8,2]]])\n",
    "print(d.shape)\n",
    "print(d)\n",
    "print(d[2][1][0])\n",
    "print(d[3,0,0])"
   ]
  },
  {
   "cell_type": "code",
   "execution_count": 27,
   "id": "134ba771",
   "metadata": {},
   "outputs": [
    {
     "name": "stdout",
     "output_type": "stream",
     "text": [
      "(2, 2, 2)\n"
     ]
    }
   ],
   "source": [
    "e = np.array([[[1,2],\n",
    "               [3,4]],\n",
    "             [[5,6],\n",
    "              [7,8]]])\n",
    "print(e.shape)"
   ]
  },
  {
   "cell_type": "code",
   "execution_count": 30,
   "id": "fd4de1be",
   "metadata": {},
   "outputs": [
    {
     "name": "stdout",
     "output_type": "stream",
     "text": [
      "[[1 2]\n",
      " [3 4]]\n",
      "(2, 2)\n"
     ]
    }
   ],
   "source": [
    "print(e[0])\n",
    "print(e[0].shape)"
   ]
  },
  {
   "cell_type": "code",
   "execution_count": 31,
   "id": "a9f29e83",
   "metadata": {},
   "outputs": [
    {
     "name": "stdout",
     "output_type": "stream",
     "text": [
      "[[1 3]\n",
      " [2 4]]\n",
      "(2, 2)\n"
     ]
    }
   ],
   "source": [
    "print(e[0].T)\n",
    "print(e[0].T.shape)"
   ]
  },
  {
   "cell_type": "code",
   "execution_count": 35,
   "id": "0708fc0c",
   "metadata": {},
   "outputs": [
    {
     "name": "stdout",
     "output_type": "stream",
     "text": [
      "(2, 1, 4)\n"
     ]
    }
   ],
   "source": [
    "g = np.array([[\n",
    "               [1,2,3,4]],\n",
    "             [[5,6,7,8]]])\n",
    "print(g.shape)"
   ]
  },
  {
   "cell_type": "code",
   "execution_count": 34,
   "id": "a148fa62",
   "metadata": {},
   "outputs": [
    {
     "name": "stdout",
     "output_type": "stream",
     "text": [
      "(2, 3, 2)\n"
     ]
    }
   ],
   "source": [
    "f = np.array([[[1,2],\n",
    "               [3,4],\n",
    "               [5,6]],\n",
    "             [[7,8],\n",
    "              [9,10],\n",
    "              [11,12]]])\n",
    "print(f.shape)"
   ]
  },
  {
   "cell_type": "code",
   "execution_count": 38,
   "id": "c2968bcb",
   "metadata": {},
   "outputs": [
    {
     "name": "stdout",
     "output_type": "stream",
     "text": [
      "(2, 1, 3, 2)\n"
     ]
    }
   ],
   "source": [
    "h = np.array([\n",
    "    [\n",
    "        [[1,2],\n",
    "         [3,3],\n",
    "         [5,6]]\n",
    "    ],\n",
    "    [\n",
    "        [[9,8],\n",
    "         [7,6],\n",
    "         [0,3]]\n",
    "    ]\n",
    "              ])\n",
    "print(h.shape)  "
   ]
  },
  {
   "cell_type": "code",
   "execution_count": 46,
   "id": "e5830bdd",
   "metadata": {},
   "outputs": [
    {
     "data": {
      "text/plain": [
       "array([[[1, 2],\n",
       "        [3, 3],\n",
       "        [5, 6]]])"
      ]
     },
     "execution_count": 46,
     "metadata": {},
     "output_type": "execute_result"
    }
   ],
   "source": [
    "h[0]"
   ]
  },
  {
   "cell_type": "code",
   "execution_count": 47,
   "id": "66701847",
   "metadata": {},
   "outputs": [
    {
     "data": {
      "text/plain": [
       "array([[1, 2],\n",
       "       [3, 3],\n",
       "       [5, 6]])"
      ]
     },
     "execution_count": 47,
     "metadata": {},
     "output_type": "execute_result"
    }
   ],
   "source": [
    "h[0,0]"
   ]
  },
  {
   "cell_type": "code",
   "execution_count": 50,
   "id": "8993cf5f",
   "metadata": {},
   "outputs": [
    {
     "data": {
      "text/plain": [
       "6"
      ]
     },
     "execution_count": 50,
     "metadata": {},
     "output_type": "execute_result"
    }
   ],
   "source": [
    "h[0,0,2,1]"
   ]
  },
  {
   "cell_type": "code",
   "execution_count": 61,
   "id": "eead4bff",
   "metadata": {},
   "outputs": [
    {
     "name": "stdout",
     "output_type": "stream",
     "text": [
      "[[[1 2]\n",
      "  [3 3]\n",
      "  [5 6]]]\n",
      "(1, 3, 2)\n"
     ]
    }
   ],
   "source": [
    "print(h[0])\n",
    "print(h[0].shape)"
   ]
  },
  {
   "cell_type": "code",
   "execution_count": 63,
   "id": "0cbbce4c",
   "metadata": {},
   "outputs": [
    {
     "name": "stdout",
     "output_type": "stream",
     "text": [
      "[[[1]\n",
      "  [3]\n",
      "  [5]]\n",
      "\n",
      " [[2]\n",
      "  [3]\n",
      "  [6]]]\n",
      "(2, 3, 1)\n"
     ]
    }
   ],
   "source": [
    "h0T = h[0].T\n",
    "print(h0T)\n",
    "print(h0T.shape)"
   ]
  },
  {
   "cell_type": "code",
   "execution_count": 64,
   "id": "04432718",
   "metadata": {},
   "outputs": [
    {
     "name": "stdout",
     "output_type": "stream",
     "text": [
      "[[[[1 9]]\n",
      "\n",
      "  [[3 7]]\n",
      "\n",
      "  [[5 0]]]\n",
      "\n",
      "\n",
      " [[[2 8]]\n",
      "\n",
      "  [[3 6]]\n",
      "\n",
      "  [[6 3]]]]\n",
      "(2, 3, 1, 2)\n"
     ]
    }
   ],
   "source": [
    "hT = h.T\n",
    "print(hT)\n",
    "print(hT.shape)"
   ]
  },
  {
   "cell_type": "code",
   "execution_count": 65,
   "id": "f9b33e12",
   "metadata": {},
   "outputs": [
    {
     "data": {
      "text/plain": [
       "numpy.ndarray"
      ]
     },
     "execution_count": 65,
     "metadata": {},
     "output_type": "execute_result"
    }
   ],
   "source": [
    "type(h)"
   ]
  },
  {
   "cell_type": "markdown",
   "id": "a7951fc0",
   "metadata": {},
   "source": [
    "## Slicing Sytax = Arrname[start:stop:step] till stop-1th index is fetch"
   ]
  },
  {
   "cell_type": "code",
   "execution_count": 75,
   "id": "70e327f5",
   "metadata": {},
   "outputs": [
    {
     "name": "stdout",
     "output_type": "stream",
     "text": [
      "[1 2 3 4 5 6 7 8]\n",
      "[2 3 4 5]\n",
      "[1 3 5 7]\n",
      "[1 2 3 4 5]\n",
      "[1 2 3 4 5 6 7 8]\n",
      "[1 2 3 4 5 6 7]\n",
      "[8 7 6 5 4 3 2 1]\n",
      "[8 7 6 5 4 3 2 1]\n",
      "[8 7 6 5 4]\n"
     ]
    }
   ],
   "source": [
    "print(a)\n",
    "print(a[1:5])\n",
    "print(a[::2])\n",
    "print(a[:5])\n",
    "print(a[:])\n",
    "print(a[:-1])\n",
    "print(a[::-1])\n",
    "print(a[-1::-1])\n",
    "print(a[-1:-6:-1])"
   ]
  },
  {
   "cell_type": "code",
   "execution_count": 95,
   "id": "21943457",
   "metadata": {},
   "outputs": [
    {
     "name": "stdout",
     "output_type": "stream",
     "text": [
      "[[1 2 3 4]\n",
      " [1 2 3 4]]\n",
      "(2, 4)\n",
      "[[1 2 3 4]\n",
      " [1 2 3 4]]\n",
      "[[1 2 3 4]]\n"
     ]
    }
   ],
   "source": [
    "arr = np.array([[1,2,3,4],\n",
    "                [1,2,3,4]])\n",
    "print(arr)\n",
    "print(arr.shape)\n",
    "print(arr[0:2,0:4])\n",
    "print(arr[:1,:4])"
   ]
  },
  {
   "cell_type": "code",
   "execution_count": 105,
   "id": "440cb1f2",
   "metadata": {},
   "outputs": [
    {
     "name": "stdout",
     "output_type": "stream",
     "text": [
      "[[ 1  2  3  4]\n",
      " [ 5  6  7  8]\n",
      " [ 9 10 11 12]]\n",
      "(3, 4)\n",
      "[[1 2 3 4]]\n",
      "[[4]]\n",
      "[[ 4]\n",
      " [ 8]\n",
      " [12]]\n"
     ]
    }
   ],
   "source": [
    "arr1 = np.array([[1,2,3,4],\n",
    "                [5,6,7,8],\n",
    "                [9,10,11,12]])\n",
    "print(arr1)\n",
    "print(arr1.shape)\n",
    "print(arr1[0:1,0:4])\n",
    "print(arr1[0:1,3:4])\n",
    "print(arr1[0:3,3:4])"
   ]
  },
  {
   "cell_type": "code",
   "execution_count": 108,
   "id": "f4a1ed25",
   "metadata": {},
   "outputs": [
    {
     "data": {
      "text/plain": [
       "dtype('int32')"
      ]
     },
     "execution_count": 108,
     "metadata": {},
     "output_type": "execute_result"
    }
   ],
   "source": [
    "arr = np.array([1,2,3,4,5,6])\n",
    "arr.dtype"
   ]
  },
  {
   "cell_type": "code",
   "execution_count": 109,
   "id": "47f3f539",
   "metadata": {},
   "outputs": [
    {
     "ename": "ValueError",
     "evalue": "invalid literal for int() with base 10: 'a'",
     "output_type": "error",
     "traceback": [
      "\u001b[1;31m---------------------------------------------------------------------------\u001b[0m",
      "\u001b[1;31mValueError\u001b[0m                                Traceback (most recent call last)",
      "Cell \u001b[1;32mIn[109], line 1\u001b[0m\n\u001b[1;32m----> 1\u001b[0m arr \u001b[38;5;241m=\u001b[39m np\u001b[38;5;241m.\u001b[39marray([\u001b[38;5;124m'\u001b[39m\u001b[38;5;124ma\u001b[39m\u001b[38;5;124m'\u001b[39m,\u001b[38;5;241m2\u001b[39m,\u001b[38;5;241m3\u001b[39m,\u001b[38;5;241m4\u001b[39m,\u001b[38;5;241m5\u001b[39m,\u001b[38;5;241m6\u001b[39m], dtype \u001b[38;5;241m=\u001b[39m \u001b[38;5;124m'\u001b[39m\u001b[38;5;124mi\u001b[39m\u001b[38;5;124m'\u001b[39m)\n",
      "\u001b[1;31mValueError\u001b[0m: invalid literal for int() with base 10: 'a'"
     ]
    }
   ],
   "source": [
    "arr = np.array(['a',2,3,4,5,6], dtype = 'i')"
   ]
  },
  {
   "cell_type": "code",
   "execution_count": 110,
   "id": "865c55c3",
   "metadata": {},
   "outputs": [
    {
     "name": "stdout",
     "output_type": "stream",
     "text": [
      "[1 0 0 1 5 6]\n",
      "int32\n",
      "[ True False False  True  True  True]\n",
      "bool\n"
     ]
    }
   ],
   "source": [
    "arr = np.array([1,0,0,1,5,6])\n",
    "print(arr)\n",
    "print(arr.dtype)\n",
    "new_arr = arr.astype(bool)\n",
    "print(new_arr)\n",
    "print(new_arr.dtype)"
   ]
  },
  {
   "cell_type": "code",
   "execution_count": 111,
   "id": "9befc089",
   "metadata": {},
   "outputs": [
    {
     "data": {
      "text/plain": [
       "(16,)"
      ]
     },
     "execution_count": 111,
     "metadata": {},
     "output_type": "execute_result"
    }
   ],
   "source": [
    "range_vals = np.array(range(0,16,1))\n",
    "range_vals.shape"
   ]
  },
  {
   "cell_type": "code",
   "execution_count": 112,
   "id": "fa63dcdf",
   "metadata": {},
   "outputs": [
    {
     "data": {
      "text/plain": [
       "array([[ 0,  1,  2,  3],\n",
       "       [ 4,  5,  6,  7],\n",
       "       [ 8,  9, 10, 11],\n",
       "       [12, 13, 14, 15]])"
      ]
     },
     "execution_count": 112,
     "metadata": {},
     "output_type": "execute_result"
    }
   ],
   "source": [
    "matrix = range_vals.reshape(4,4)\n",
    "matrix"
   ]
  },
  {
   "cell_type": "code",
   "execution_count": 116,
   "id": "4fd54e19",
   "metadata": {},
   "outputs": [
    {
     "data": {
      "text/plain": [
       "array([[ 0,  1,  2,  3,  4,  5,  6,  7],\n",
       "       [ 8,  9, 10, 11, 12, 13, 14, 15]])"
      ]
     },
     "execution_count": 116,
     "metadata": {},
     "output_type": "execute_result"
    }
   ],
   "source": [
    "matrix1 = range_vals.reshape(2,8)\n",
    "matrix1"
   ]
  },
  {
   "cell_type": "code",
   "execution_count": 120,
   "id": "bd0a580f",
   "metadata": {},
   "outputs": [
    {
     "data": {
      "text/plain": [
       "array([ 0,  1,  2,  3,  4,  5,  6,  7,  8,  9, 10, 11, 12, 13, 14, 15])"
      ]
     },
     "execution_count": 120,
     "metadata": {},
     "output_type": "execute_result"
    }
   ],
   "source": [
    "matrix2 = range_vals.reshape(8,2)\n",
    "matrix2\n",
    "matrix2.reshape(-1)"
   ]
  },
  {
   "cell_type": "code",
   "execution_count": 121,
   "id": "3e30fa2b",
   "metadata": {},
   "outputs": [
    {
     "data": {
      "text/plain": [
       "array([[ 0,  1,  2,  3],\n",
       "       [ 4,  5,  6,  7],\n",
       "       [ 8,  9, 10, 11],\n",
       "       [12, 13, 14, 15]])"
      ]
     },
     "execution_count": 121,
     "metadata": {},
     "output_type": "execute_result"
    }
   ],
   "source": [
    "matrix"
   ]
  },
  {
   "cell_type": "code",
   "execution_count": 125,
   "id": "093e79fe",
   "metadata": {},
   "outputs": [
    {
     "name": "stdout",
     "output_type": "stream",
     "text": [
      "[0 1 2 3]\n",
      "0\n",
      "1\n",
      "2\n",
      "3\n",
      "[4 5 6 7]\n",
      "4\n",
      "5\n",
      "6\n",
      "7\n",
      "[ 8  9 10 11]\n",
      "8\n",
      "9\n",
      "10\n",
      "11\n",
      "[12 13 14 15]\n",
      "12\n",
      "13\n",
      "14\n",
      "15\n"
     ]
    }
   ],
   "source": [
    "for i in matrix:\n",
    "    print(i)\n",
    "    for j in i:\n",
    "        print(j)"
   ]
  },
  {
   "cell_type": "code",
   "execution_count": 126,
   "id": "898a345f",
   "metadata": {},
   "outputs": [
    {
     "data": {
      "text/plain": [
       "array([], shape=(0, 0), dtype=float64)"
      ]
     },
     "execution_count": 126,
     "metadata": {},
     "output_type": "execute_result"
    }
   ],
   "source": [
    "np.eye(0)"
   ]
  },
  {
   "cell_type": "code",
   "execution_count": 127,
   "id": "14e4b9bc",
   "metadata": {},
   "outputs": [
    {
     "data": {
      "text/plain": [
       "array([[1., 0.],\n",
       "       [0., 1.]])"
      ]
     },
     "execution_count": 127,
     "metadata": {},
     "output_type": "execute_result"
    }
   ],
   "source": [
    "np.eye(2)"
   ]
  },
  {
   "cell_type": "code",
   "execution_count": 128,
   "id": "fdd05361",
   "metadata": {},
   "outputs": [
    {
     "data": {
      "text/plain": [
       "array([[1., 0., 0., 0., 0.],\n",
       "       [0., 1., 0., 0., 0.],\n",
       "       [0., 0., 1., 0., 0.],\n",
       "       [0., 0., 0., 1., 0.],\n",
       "       [0., 0., 0., 0., 1.]])"
      ]
     },
     "execution_count": 128,
     "metadata": {},
     "output_type": "execute_result"
    }
   ],
   "source": [
    "np.eye(5)"
   ]
  },
  {
   "cell_type": "code",
   "execution_count": 132,
   "id": "800ab0b6",
   "metadata": {},
   "outputs": [
    {
     "data": {
      "text/plain": [
       "array([[1., 0., 0., 0.],\n",
       "       [0., 1., 0., 0.],\n",
       "       [0., 0., 1., 0.],\n",
       "       [0., 0., 0., 1.]])"
      ]
     },
     "execution_count": 132,
     "metadata": {},
     "output_type": "execute_result"
    }
   ],
   "source": [
    "I = np.eye(4)\n",
    "I"
   ]
  },
  {
   "cell_type": "code",
   "execution_count": 133,
   "id": "ac6b62e6",
   "metadata": {},
   "outputs": [],
   "source": [
    "a = np.dot(matrix,I)\n",
    "b = np.dot(I,matrix)"
   ]
  },
  {
   "cell_type": "code",
   "execution_count": 134,
   "id": "9a3d195b",
   "metadata": {},
   "outputs": [],
   "source": [
    "assert a.shape == b.shape"
   ]
  },
  {
   "cell_type": "code",
   "execution_count": 135,
   "id": "3e34094d",
   "metadata": {},
   "outputs": [
    {
     "data": {
      "text/plain": [
       "True"
      ]
     },
     "execution_count": 135,
     "metadata": {},
     "output_type": "execute_result"
    }
   ],
   "source": [
    "np.alltrue(a==b)"
   ]
  },
  {
   "cell_type": "code",
   "execution_count": 136,
   "id": "49e6af9a",
   "metadata": {},
   "outputs": [
    {
     "data": {
      "text/plain": [
       "True"
      ]
     },
     "execution_count": 136,
     "metadata": {},
     "output_type": "execute_result"
    }
   ],
   "source": [
    "np.allclose(a,b)"
   ]
  },
  {
   "cell_type": "code",
   "execution_count": 138,
   "id": "c0c6ddc0",
   "metadata": {},
   "outputs": [],
   "source": [
    "np.allclose?"
   ]
  },
  {
   "cell_type": "markdown",
   "id": "b9a8df2c",
   "metadata": {},
   "source": [
    "## Numpy Operations"
   ]
  },
  {
   "cell_type": "code",
   "execution_count": 139,
   "id": "a0e9b49e",
   "metadata": {},
   "outputs": [
    {
     "name": "stdout",
     "output_type": "stream",
     "text": [
      "[[0.1 0.2 0.3]\n",
      " [0.4 0.5 0.6]\n",
      " [0.7 0.8 0.9]]\n"
     ]
    }
   ],
   "source": [
    "matA = np.arange(0.1,1,0.1).reshape(3,3)\n",
    "print(matA)"
   ]
  },
  {
   "cell_type": "code",
   "execution_count": 140,
   "id": "e2a374a5",
   "metadata": {},
   "outputs": [
    {
     "name": "stdout",
     "output_type": "stream",
     "text": [
      "[[0.3 0.6 0.9]\n",
      " [1.2 1.5 1.8]\n",
      " [2.1 2.4 2.7]]\n"
     ]
    }
   ],
   "source": [
    "matB = matA*3\n",
    "print(matB)"
   ]
  },
  {
   "cell_type": "code",
   "execution_count": 141,
   "id": "63411d3a",
   "metadata": {},
   "outputs": [
    {
     "data": {
      "text/plain": [
       "array([[0.3, 0.6, 0.9],\n",
       "       [1.2, 1.5, 1.8],\n",
       "       [2.1, 2.4, 2.7]])"
      ]
     },
     "execution_count": 141,
     "metadata": {},
     "output_type": "execute_result"
    }
   ],
   "source": [
    "matB"
   ]
  },
  {
   "cell_type": "code",
   "execution_count": 143,
   "id": "55c512aa",
   "metadata": {},
   "outputs": [
    {
     "data": {
      "text/plain": [
       "array([[0.4, 0.8, 1.2],\n",
       "       [1.6, 2. , 2.4],\n",
       "       [2.8, 3.2, 3.6]])"
      ]
     },
     "execution_count": 143,
     "metadata": {},
     "output_type": "execute_result"
    }
   ],
   "source": [
    "matC = matB + matA\n",
    "matC"
   ]
  },
  {
   "cell_type": "code",
   "execution_count": 148,
   "id": "30c072ae",
   "metadata": {},
   "outputs": [
    {
     "data": {
      "text/plain": [
       "array([[0.4, 0.8, 1.2],\n",
       "       [1.6, 2. , 2.4],\n",
       "       [2.8, 3.2, 3.6]])"
      ]
     },
     "execution_count": 148,
     "metadata": {},
     "output_type": "execute_result"
    }
   ],
   "source": [
    "np.add(matB,matA)"
   ]
  },
  {
   "cell_type": "code",
   "execution_count": 144,
   "id": "b13b561c",
   "metadata": {},
   "outputs": [
    {
     "data": {
      "text/plain": [
       "array([[0.2, 0.4, 0.6],\n",
       "       [0.8, 1. , 1.2],\n",
       "       [1.4, 1.6, 1.8]])"
      ]
     },
     "execution_count": 144,
     "metadata": {},
     "output_type": "execute_result"
    }
   ],
   "source": [
    "matC = matB - matA\n",
    "matC"
   ]
  },
  {
   "cell_type": "code",
   "execution_count": 149,
   "id": "f7475fa3",
   "metadata": {},
   "outputs": [
    {
     "data": {
      "text/plain": [
       "array([[0.2, 0.4, 0.6],\n",
       "       [0.8, 1. , 1.2],\n",
       "       [1.4, 1.6, 1.8]])"
      ]
     },
     "execution_count": 149,
     "metadata": {},
     "output_type": "execute_result"
    }
   ],
   "source": [
    "np.subtract(matB,matA)"
   ]
  },
  {
   "cell_type": "code",
   "execution_count": 145,
   "id": "bef71137",
   "metadata": {},
   "outputs": [
    {
     "data": {
      "text/plain": [
       "array([[0.03, 0.12, 0.27],\n",
       "       [0.48, 0.75, 1.08],\n",
       "       [1.47, 1.92, 2.43]])"
      ]
     },
     "execution_count": 145,
     "metadata": {},
     "output_type": "execute_result"
    }
   ],
   "source": [
    "matC = matB * matA\n",
    "matC"
   ]
  },
  {
   "cell_type": "code",
   "execution_count": 150,
   "id": "7dae31d6",
   "metadata": {},
   "outputs": [
    {
     "data": {
      "text/plain": [
       "array([[0.03, 0.12, 0.27],\n",
       "       [0.48, 0.75, 1.08],\n",
       "       [1.47, 1.92, 2.43]])"
      ]
     },
     "execution_count": 150,
     "metadata": {},
     "output_type": "execute_result"
    }
   ],
   "source": [
    "np.multiply(matB,matA)"
   ]
  },
  {
   "cell_type": "code",
   "execution_count": 146,
   "id": "ba526f12",
   "metadata": {},
   "outputs": [
    {
     "data": {
      "text/plain": [
       "array([[3., 3., 3.],\n",
       "       [3., 3., 3.],\n",
       "       [3., 3., 3.]])"
      ]
     },
     "execution_count": 146,
     "metadata": {},
     "output_type": "execute_result"
    }
   ],
   "source": [
    "matC = matB / matA\n",
    "matC"
   ]
  },
  {
   "cell_type": "code",
   "execution_count": 152,
   "id": "bfc228e4",
   "metadata": {},
   "outputs": [
    {
     "data": {
      "text/plain": [
       "array([[3., 3., 3.],\n",
       "       [3., 3., 3.],\n",
       "       [3., 3., 3.]])"
      ]
     },
     "execution_count": 152,
     "metadata": {},
     "output_type": "execute_result"
    }
   ],
   "source": [
    "np.divide(matB,matA)"
   ]
  },
  {
   "cell_type": "code",
   "execution_count": 153,
   "id": "005ce5cc",
   "metadata": {},
   "outputs": [],
   "source": [
    "arr = np.array([1,2,3,4,5,6],dtype = 'float64')"
   ]
  },
  {
   "cell_type": "code",
   "execution_count": 154,
   "id": "ed0345ee",
   "metadata": {},
   "outputs": [
    {
     "data": {
      "text/plain": [
       "array([1.        , 0.5       , 0.33333333, 0.25      , 0.2       ,\n",
       "       0.16666667])"
      ]
     },
     "execution_count": 154,
     "metadata": {},
     "output_type": "execute_result"
    }
   ],
   "source": [
    "np.reciprocal(arr)"
   ]
  },
  {
   "cell_type": "code",
   "execution_count": 156,
   "id": "fbaf344a",
   "metadata": {},
   "outputs": [
    {
     "data": {
      "text/plain": [
       "array([[1, 2],\n",
       "       [3, 4],\n",
       "       [5, 6]])"
      ]
     },
     "execution_count": 156,
     "metadata": {},
     "output_type": "execute_result"
    }
   ],
   "source": [
    "mat1 = np.array([1,2,3,4,5,6]).reshape(3,2)\n",
    "mat1"
   ]
  },
  {
   "cell_type": "code",
   "execution_count": 157,
   "id": "9224f5fd",
   "metadata": {},
   "outputs": [
    {
     "data": {
      "text/plain": [
       "(3, 2)"
      ]
     },
     "execution_count": 157,
     "metadata": {},
     "output_type": "execute_result"
    }
   ],
   "source": [
    "mat1.shape"
   ]
  },
  {
   "cell_type": "code",
   "execution_count": 159,
   "id": "aaa029cb",
   "metadata": {},
   "outputs": [
    {
     "data": {
      "text/plain": [
       "array([[ 3,  6],\n",
       "       [ 9, 12],\n",
       "       [15, 18]])"
      ]
     },
     "execution_count": 159,
     "metadata": {},
     "output_type": "execute_result"
    }
   ],
   "source": [
    "mat2 = mat1 * 3\n",
    "mat2"
   ]
  },
  {
   "cell_type": "code",
   "execution_count": 160,
   "id": "b7c4938c",
   "metadata": {},
   "outputs": [
    {
     "name": "stdout",
     "output_type": "stream",
     "text": [
      "(3, 2)\n",
      "(3, 2)\n"
     ]
    }
   ],
   "source": [
    "print(mat1.shape)\n",
    "print(mat2.shape)"
   ]
  },
  {
   "cell_type": "code",
   "execution_count": 162,
   "id": "73faffe4",
   "metadata": {},
   "outputs": [
    {
     "data": {
      "text/plain": [
       "array([[1, 3, 5],\n",
       "       [2, 4, 6]])"
      ]
     },
     "execution_count": 162,
     "metadata": {},
     "output_type": "execute_result"
    }
   ],
   "source": [
    "mat1.T"
   ]
  },
  {
   "cell_type": "code",
   "execution_count": 163,
   "id": "424d02d6",
   "metadata": {},
   "outputs": [
    {
     "data": {
      "text/plain": [
       "(2, 3)"
      ]
     },
     "execution_count": 163,
     "metadata": {},
     "output_type": "execute_result"
    }
   ],
   "source": [
    "mat1.T.shape"
   ]
  },
  {
   "cell_type": "code",
   "execution_count": 167,
   "id": "432ea436",
   "metadata": {},
   "outputs": [
    {
     "data": {
      "text/plain": [
       "array([[1, 3, 5],\n",
       "       [2, 4, 6]])"
      ]
     },
     "execution_count": 167,
     "metadata": {},
     "output_type": "execute_result"
    }
   ],
   "source": [
    "mat1.T"
   ]
  },
  {
   "cell_type": "code",
   "execution_count": 166,
   "id": "57cfa10a",
   "metadata": {},
   "outputs": [
    {
     "data": {
      "text/plain": [
       "array([[ 3,  6],\n",
       "       [ 9, 12],\n",
       "       [15, 18]])"
      ]
     },
     "execution_count": 166,
     "metadata": {},
     "output_type": "execute_result"
    }
   ],
   "source": [
    "mat2"
   ]
  },
  {
   "cell_type": "code",
   "execution_count": 169,
   "id": "59aac01e",
   "metadata": {},
   "outputs": [
    {
     "data": {
      "text/plain": [
       "array([[105, 132],\n",
       "       [132, 168]])"
      ]
     },
     "execution_count": 169,
     "metadata": {},
     "output_type": "execute_result"
    }
   ],
   "source": [
    "np.dot(mat1.T,mat2) #@ - short hand for dot product"
   ]
  },
  {
   "cell_type": "code",
   "execution_count": null,
   "id": "70f99689",
   "metadata": {},
   "outputs": [],
   "source": [
    "mat1.T @ mat2 #Inner product - (2,3)(3,2)\n",
    "mat1 @ mat2.T #outer product - (3,2)(2,3)"
   ]
  },
  {
   "cell_type": "code",
   "execution_count": 170,
   "id": "82ab65c0",
   "metadata": {},
   "outputs": [],
   "source": [
    "arr1 = np.array([5,10,15])\n",
    "arr2 = np.array([2,5,3])"
   ]
  },
  {
   "cell_type": "code",
   "execution_count": 171,
   "id": "475e037b",
   "metadata": {},
   "outputs": [
    {
     "data": {
      "text/plain": [
       "array([1, 0, 0])"
      ]
     },
     "execution_count": 171,
     "metadata": {},
     "output_type": "execute_result"
    }
   ],
   "source": [
    "np.mod(arr1,arr2)"
   ]
  },
  {
   "cell_type": "code",
   "execution_count": 172,
   "id": "a62ea2ae",
   "metadata": {},
   "outputs": [
    {
     "data": {
      "text/plain": [
       "array([1, 0, 0])"
      ]
     },
     "execution_count": 172,
     "metadata": {},
     "output_type": "execute_result"
    }
   ],
   "source": [
    "np.remainder(arr1,arr2)"
   ]
  },
  {
   "cell_type": "code",
   "execution_count": 173,
   "id": "41d9e4e9",
   "metadata": {},
   "outputs": [],
   "source": [
    "A = [[1,2],[3,4]]"
   ]
  },
  {
   "cell_type": "code",
   "execution_count": 177,
   "id": "be758322",
   "metadata": {},
   "outputs": [
    {
     "data": {
      "text/plain": [
       "array([[-2. ,  1. ],\n",
       "       [ 1.5, -0.5]])"
      ]
     },
     "execution_count": 177,
     "metadata": {},
     "output_type": "execute_result"
    }
   ],
   "source": [
    "np.linalg.inv(A)"
   ]
  },
  {
   "cell_type": "code",
   "execution_count": 178,
   "id": "d727e867",
   "metadata": {},
   "outputs": [],
   "source": [
    "from numpy.linalg import inv\n",
    "a = np.array([[1., 2.], [3., 4.]])"
   ]
  },
  {
   "cell_type": "code",
   "execution_count": 179,
   "id": "d667db39",
   "metadata": {},
   "outputs": [],
   "source": [
    "ainv = inv(a)"
   ]
  },
  {
   "cell_type": "code",
   "execution_count": 180,
   "id": "d9ecaa40",
   "metadata": {},
   "outputs": [
    {
     "data": {
      "text/plain": [
       "array([[-2. ,  1. ],\n",
       "       [ 1.5, -0.5]])"
      ]
     },
     "execution_count": 180,
     "metadata": {},
     "output_type": "execute_result"
    }
   ],
   "source": [
    "ainv"
   ]
  },
  {
   "cell_type": "code",
   "execution_count": 181,
   "id": "a2be9de7",
   "metadata": {},
   "outputs": [
    {
     "data": {
      "text/plain": [
       "array([ True, False, False,  True,  True,  True])"
      ]
     },
     "execution_count": 181,
     "metadata": {},
     "output_type": "execute_result"
    }
   ],
   "source": [
    "#Instead of converting to boolen using astype, can we use like below:\n",
    "arr = np.array([1,0,0,1,5,6], dtype='bool')\n",
    "arr"
   ]
  },
  {
   "cell_type": "markdown",
   "id": "ab115e77",
   "metadata": {},
   "source": [
    "## Extra things from cheat_sheet\n",
    "- Creating Arrays\n"
   ]
  },
  {
   "cell_type": "code",
   "execution_count": 203,
   "id": "88f7e335",
   "metadata": {},
   "outputs": [
    {
     "data": {
      "text/plain": [
       "array([0., 0., 0.])"
      ]
     },
     "execution_count": 203,
     "metadata": {},
     "output_type": "execute_result"
    }
   ],
   "source": [
    "np.zeros(3)"
   ]
  },
  {
   "cell_type": "code",
   "execution_count": 185,
   "id": "3c4cb0f8",
   "metadata": {},
   "outputs": [
    {
     "data": {
      "text/plain": [
       "array([[1., 1., 1., 1.],\n",
       "       [1., 1., 1., 1.],\n",
       "       [1., 1., 1., 1.]])"
      ]
     },
     "execution_count": 185,
     "metadata": {},
     "output_type": "execute_result"
    }
   ],
   "source": [
    "np.ones((3,4))"
   ]
  },
  {
   "cell_type": "code",
   "execution_count": 190,
   "id": "fffba52c",
   "metadata": {},
   "outputs": [
    {
     "data": {
      "text/plain": [
       "array([  0.,  20.,  40.,  60.,  80., 100.])"
      ]
     },
     "execution_count": 190,
     "metadata": {},
     "output_type": "execute_result"
    }
   ],
   "source": [
    "np.linspace(0,100,6) # Split the 0 to 100 in 6"
   ]
  },
  {
   "cell_type": "code",
   "execution_count": 191,
   "id": "653bd4eb",
   "metadata": {},
   "outputs": [
    {
     "data": {
      "text/plain": [
       "array([0, 3, 6, 9])"
      ]
     },
     "execution_count": 191,
     "metadata": {},
     "output_type": "execute_result"
    }
   ],
   "source": [
    "np.arange(0,10,3)"
   ]
  },
  {
   "cell_type": "code",
   "execution_count": 192,
   "id": "634d18ef",
   "metadata": {},
   "outputs": [
    {
     "data": {
      "text/plain": [
       "array([[8, 8, 8],\n",
       "       [8, 8, 8]])"
      ]
     },
     "execution_count": 192,
     "metadata": {},
     "output_type": "execute_result"
    }
   ],
   "source": [
    "np.full((2,3),8)"
   ]
  },
  {
   "cell_type": "code",
   "execution_count": 197,
   "id": "9228b76b",
   "metadata": {},
   "outputs": [
    {
     "data": {
      "text/plain": [
       "array([[0.90469007, 0.15665717, 0.84147507, 0.2721797 , 0.2702712 ],\n",
       "       [0.6271083 , 0.85382104, 0.91110972, 0.11571242, 0.31031822],\n",
       "       [0.79217807, 0.41961424, 0.38911214, 0.56846499, 0.02575212],\n",
       "       [0.13436273, 0.48212822, 0.52550281, 0.98753192, 0.5359311 ]])"
      ]
     },
     "execution_count": 197,
     "metadata": {},
     "output_type": "execute_result"
    }
   ],
   "source": [
    "np.random.rand(4,5) # Array of random floats between 0-1"
   ]
  },
  {
   "cell_type": "code",
   "execution_count": 196,
   "id": "9786058e",
   "metadata": {},
   "outputs": [
    {
     "data": {
      "text/plain": [
       "array([[84.13397099, 86.60666359,  3.60333624,  0.32790993, 66.73520586,\n",
       "        83.24475214, 64.56868951],\n",
       "       [98.98194724, 49.53166096, 41.96198973, 51.72260732, 67.92768947,\n",
       "        93.59688072, 33.54420026],\n",
       "       [83.40971472, 23.78727179, 21.21649587, 60.74143437, 53.70087869,\n",
       "        39.01463364, 35.37441692],\n",
       "       [43.51609257, 53.97800025, 45.72100007, 97.80887504, 77.46394094,\n",
       "        15.79196831, 10.17994262],\n",
       "       [27.12099847, 20.09405289, 85.09266269, 24.97768996, 41.30980304,\n",
       "        79.15977382, 44.36239711],\n",
       "       [44.8341443 , 61.66060811, 32.79773503, 21.38217029, 62.33298296,\n",
       "        63.52327036, 68.52168142]])"
      ]
     },
     "execution_count": 196,
     "metadata": {},
     "output_type": "execute_result"
    }
   ],
   "source": [
    "np.random.rand(6,7)*100 # Array of random float between 0-100"
   ]
  },
  {
   "cell_type": "code",
   "execution_count": 198,
   "id": "3d4f40c0",
   "metadata": {},
   "outputs": [
    {
     "data": {
      "text/plain": [
       "array([[4, 4, 3],\n",
       "       [2, 4, 4]])"
      ]
     },
     "execution_count": 198,
     "metadata": {},
     "output_type": "execute_result"
    }
   ],
   "source": [
    "np.random.randint(5,size=(2,3))"
   ]
  },
  {
   "cell_type": "markdown",
   "id": "c8121f75",
   "metadata": {},
   "source": [
    "## Inspecting Properties"
   ]
  },
  {
   "cell_type": "code",
   "execution_count": 210,
   "id": "087718f3",
   "metadata": {},
   "outputs": [
    {
     "data": {
      "text/plain": [
       "array([[1, 0, 3],\n",
       "       [4, 5, 0]])"
      ]
     },
     "execution_count": 210,
     "metadata": {},
     "output_type": "execute_result"
    }
   ],
   "source": [
    "arr = np.array([(1,0,3),(4,5,0)])\n",
    "arr"
   ]
  },
  {
   "cell_type": "code",
   "execution_count": 205,
   "id": "307da051",
   "metadata": {},
   "outputs": [
    {
     "data": {
      "text/plain": [
       "6"
      ]
     },
     "execution_count": 205,
     "metadata": {},
     "output_type": "execute_result"
    }
   ],
   "source": [
    "arr.size"
   ]
  },
  {
   "cell_type": "code",
   "execution_count": 206,
   "id": "70219bff",
   "metadata": {},
   "outputs": [
    {
     "data": {
      "text/plain": [
       "(2, 3)"
      ]
     },
     "execution_count": 206,
     "metadata": {},
     "output_type": "execute_result"
    }
   ],
   "source": [
    "arr.shape"
   ]
  },
  {
   "cell_type": "code",
   "execution_count": 207,
   "id": "b24da8d2",
   "metadata": {},
   "outputs": [
    {
     "data": {
      "text/plain": [
       "dtype('int32')"
      ]
     },
     "execution_count": 207,
     "metadata": {},
     "output_type": "execute_result"
    }
   ],
   "source": [
    "arr.dtype"
   ]
  },
  {
   "cell_type": "code",
   "execution_count": 208,
   "id": "194b821f",
   "metadata": {},
   "outputs": [
    {
     "data": {
      "text/plain": [
       "array([[ True, False,  True],\n",
       "       [ True,  True, False]])"
      ]
     },
     "execution_count": 208,
     "metadata": {},
     "output_type": "execute_result"
    }
   ],
   "source": [
    "newarr = arr.astype(bool)\n",
    "newarr"
   ]
  },
  {
   "cell_type": "code",
   "execution_count": 209,
   "id": "21b88cfe",
   "metadata": {},
   "outputs": [
    {
     "data": {
      "text/plain": [
       "[[1, 0, 3], [4, 5, 0]]"
      ]
     },
     "execution_count": 209,
     "metadata": {},
     "output_type": "execute_result"
    }
   ],
   "source": [
    "l = arr.tolist()\n",
    "l"
   ]
  },
  {
   "cell_type": "code",
   "execution_count": 211,
   "id": "e88fb785",
   "metadata": {},
   "outputs": [
    {
     "name": "stdout",
     "output_type": "stream",
     "text": [
      " eye(N, M=None, k=0, dtype=<class 'float'>, order='C', *, like=None)\n",
      "\n",
      "Return a 2-D array with ones on the diagonal and zeros elsewhere.\n",
      "\n",
      "Parameters\n",
      "----------\n",
      "N : int\n",
      "  Number of rows in the output.\n",
      "M : int, optional\n",
      "  Number of columns in the output. If None, defaults to `N`.\n",
      "k : int, optional\n",
      "  Index of the diagonal: 0 (the default) refers to the main diagonal,\n",
      "  a positive value refers to an upper diagonal, and a negative value\n",
      "  to a lower diagonal.\n",
      "dtype : data-type, optional\n",
      "  Data-type of the returned array.\n",
      "order : {'C', 'F'}, optional\n",
      "    Whether the output should be stored in row-major (C-style) or\n",
      "    column-major (Fortran-style) order in memory.\n",
      "\n",
      "    .. versionadded:: 1.14.0\n",
      "like : array_like, optional\n",
      "    Reference object to allow the creation of arrays which are not\n",
      "    NumPy arrays. If an array-like passed in as ``like`` supports\n",
      "    the ``__array_function__`` protocol, the result will be defined\n",
      "    by it. In this case, it ensures the creation of an array object\n",
      "    compatible with that passed in via this argument.\n",
      "\n",
      "    .. versionadded:: 1.20.0\n",
      "\n",
      "Returns\n",
      "-------\n",
      "I : ndarray of shape (N,M)\n",
      "  An array where all elements are equal to zero, except for the `k`-th\n",
      "  diagonal, whose values are equal to one.\n",
      "\n",
      "See Also\n",
      "--------\n",
      "identity : (almost) equivalent function\n",
      "diag : diagonal 2-D array from a 1-D array specified by the user.\n",
      "\n",
      "Examples\n",
      "--------\n",
      ">>> np.eye(2, dtype=int)\n",
      "array([[1, 0],\n",
      "       [0, 1]])\n",
      ">>> np.eye(3, k=1)\n",
      "array([[0.,  1.,  0.],\n",
      "       [0.,  0.,  1.],\n",
      "       [0.,  0.,  0.]])\n"
     ]
    }
   ],
   "source": [
    "np.info(np.eye)"
   ]
  },
  {
   "cell_type": "markdown",
   "id": "404d8565",
   "metadata": {},
   "source": [
    "## Copy, Sorting and Reshaping"
   ]
  },
  {
   "cell_type": "code",
   "execution_count": 212,
   "id": "85555d30",
   "metadata": {},
   "outputs": [
    {
     "data": {
      "text/plain": [
       "array([[1, 0, 3],\n",
       "       [4, 5, 0]])"
      ]
     },
     "execution_count": 212,
     "metadata": {},
     "output_type": "execute_result"
    }
   ],
   "source": [
    "arr = np.array([(1,0,3),(4,5,0)])\n",
    "arr"
   ]
  },
  {
   "cell_type": "code",
   "execution_count": 213,
   "id": "8ae703dd",
   "metadata": {},
   "outputs": [
    {
     "data": {
      "text/plain": [
       "array([[1, 0, 3],\n",
       "       [4, 5, 0]])"
      ]
     },
     "execution_count": 213,
     "metadata": {},
     "output_type": "execute_result"
    }
   ],
   "source": [
    "new_memory = np.copy(arr)\n",
    "new_memory"
   ]
  },
  {
   "cell_type": "code",
   "execution_count": 215,
   "id": "59df3073",
   "metadata": {},
   "outputs": [],
   "source": [
    "x = np.array([(1, 2)], dtype=[('a', np.int8), ('b', np.int8)])"
   ]
  },
  {
   "cell_type": "code",
   "execution_count": 216,
   "id": "fed3de90",
   "metadata": {},
   "outputs": [
    {
     "data": {
      "text/plain": [
       "matrix([[513]], dtype=int16)"
      ]
     },
     "execution_count": 216,
     "metadata": {},
     "output_type": "execute_result"
    }
   ],
   "source": [
    "y = x.view(dtype=np.int16, type=np.matrix)\n",
    "y"
   ]
  },
  {
   "cell_type": "code",
   "execution_count": 217,
   "id": "0dca4c24",
   "metadata": {},
   "outputs": [
    {
     "data": {
      "text/plain": [
       "array([[0, 1, 3],\n",
       "       [0, 4, 5]])"
      ]
     },
     "execution_count": 217,
     "metadata": {},
     "output_type": "execute_result"
    }
   ],
   "source": [
    "arr = np.array([(1,0,3),(4,5,0)])\n",
    "arr.sort()\n",
    "arr"
   ]
  },
  {
   "cell_type": "code",
   "execution_count": 219,
   "id": "23ae16c5",
   "metadata": {},
   "outputs": [
    {
     "data": {
      "text/plain": [
       "array([[1, 0, 0],\n",
       "       [4, 5, 3]])"
      ]
     },
     "execution_count": 219,
     "metadata": {},
     "output_type": "execute_result"
    }
   ],
   "source": [
    "arr = np.array([(1,0,3),(4,5,0)])\n",
    "arr.sort(axis=0)\n",
    "arr"
   ]
  },
  {
   "cell_type": "code",
   "execution_count": 220,
   "id": "318b0874",
   "metadata": {},
   "outputs": [
    {
     "data": {
      "text/plain": [
       "(2, 3)"
      ]
     },
     "execution_count": 220,
     "metadata": {},
     "output_type": "execute_result"
    }
   ],
   "source": [
    "arr.shape"
   ]
  },
  {
   "cell_type": "code",
   "execution_count": 222,
   "id": "aef05ef7",
   "metadata": {},
   "outputs": [
    {
     "data": {
      "text/plain": [
       "array([[1, 0],\n",
       "       [0, 4],\n",
       "       [5, 3]])"
      ]
     },
     "execution_count": 222,
     "metadata": {},
     "output_type": "execute_result"
    }
   ],
   "source": [
    "arr.reshape(3,2)"
   ]
  },
  {
   "cell_type": "code",
   "execution_count": 223,
   "id": "efefa45e",
   "metadata": {},
   "outputs": [
    {
     "data": {
      "text/plain": [
       "array([[1, 4],\n",
       "       [0, 5],\n",
       "       [0, 3]])"
      ]
     },
     "execution_count": 223,
     "metadata": {},
     "output_type": "execute_result"
    }
   ],
   "source": [
    "arr.T"
   ]
  },
  {
   "cell_type": "code",
   "execution_count": 232,
   "id": "fa2e1ce1",
   "metadata": {},
   "outputs": [],
   "source": [
    "append_arr = np.append(arr,(2,3,4))"
   ]
  },
  {
   "cell_type": "code",
   "execution_count": 233,
   "id": "0866df69",
   "metadata": {},
   "outputs": [
    {
     "data": {
      "text/plain": [
       "array([1, 0, 0, 4, 5, 3, 2, 3, 4])"
      ]
     },
     "execution_count": 233,
     "metadata": {},
     "output_type": "execute_result"
    }
   ],
   "source": [
    "append_arr"
   ]
  },
  {
   "cell_type": "code",
   "execution_count": null,
   "id": "dcae8ef8",
   "metadata": {},
   "outputs": [],
   "source": []
  }
 ],
 "metadata": {
  "kernelspec": {
   "display_name": "Python 3 (ipykernel)",
   "language": "python",
   "name": "python3"
  },
  "language_info": {
   "codemirror_mode": {
    "name": "ipython",
    "version": 3
   },
   "file_extension": ".py",
   "mimetype": "text/x-python",
   "name": "python",
   "nbconvert_exporter": "python",
   "pygments_lexer": "ipython3",
   "version": "3.11.7"
  }
 },
 "nbformat": 4,
 "nbformat_minor": 5
}
